{
 "cells": [
  {
   "cell_type": "markdown",
   "metadata": {},
   "source": [
    "<ul class=\"breadcrumb\">\n",
    "  <li><a href=\"1_Conventional_Linear_Mixed_Model.ipynb\">Bayesian Linear Mixed Models (Conventional)</a></li>\n",
    "  <li><a href=\"2_Linear_Additive_Genetic_Model.ipynb\">Bayesian Linear Additive Genetic Model</a></li> \n",
    "  <li><a href=\"3_Genomic_Linear_Mixed_Model.ipynb\">Bayesian Linear Mixed Models (Genomic Data)</a></li>\n",
    "</ul>"
   ]
  },
  {
   "cell_type": "markdown",
   "metadata": {},
   "source": [
    "<div class=\"span5 alert alert-success\">\n",
    " <font size=\"5\" face=\"Georgia\">Bayesian Linear Additive Genetic Model</font> \n",
    "</div>"
   ]
  },
  {
   "cell_type": "markdown",
   "metadata": {},
   "source": [
    "<button type=\"button\" class=\"btn btn-lg btn-primary\">Step 1: Load Packages</button> "
   ]
  },
  {
   "cell_type": "code",
   "execution_count": 1,
   "metadata": {},
   "outputs": [],
   "source": [
    "using JWAS,JWAS.Datasets,DataFrames,CSV"
   ]
  },
  {
   "cell_type": "markdown",
   "metadata": {},
   "source": [
    "<button type=\"button\" class=\"btn btn-lg btn-primary\">Step 2: Read data</button> "
   ]
  },
  {
   "cell_type": "code",
   "execution_count": 2,
   "metadata": {},
   "outputs": [
    {
     "name": "stderr",
     "output_type": "stream",
     "text": [
      "\r",
      "\u001b[32mcoding pedigree...  10%|███                             |  ETA: 0:00:01\u001b[39m"
     ]
    },
    {
     "name": "stdout",
     "output_type": "stream",
     "text": [
      "Finished!\n"
     ]
    },
    {
     "name": "stderr",
     "output_type": "stream",
     "text": [
      "\u001b[32mcoding pedigree... 100%|████████████████████████████████| Time: 0:00:00\u001b[39m\n"
     ]
    }
   ],
   "source": [
    "phenofile  = Datasets.dataset(\"example\",\"phenotypes.txt\")\n",
    "pedfile    = Datasets.dataset(\"example\",\"pedigree.txt\")\n",
    "\n",
    "phenotypes = CSV.read(phenofile,delim = ',',header=true)\n",
    "pedigree   = get_pedigree(pedfile,separator=\",\",header=true);"
   ]
  },
  {
   "cell_type": "code",
   "execution_count": 3,
   "metadata": {},
   "outputs": [
    {
     "data": {
      "text/html": [
       "<table class=\"data-frame\"><thead><tr><th></th><th>ID</th><th>y1</th><th>y2</th><th>y3</th><th>x1</th><th>x2</th><th>x3</th><th>dam</th></tr></thead><tbody><tr><th>1</th><td>a1</td><td>-0.06</td><td>3.58</td><td>-1.18</td><td>0.9</td><td>2</td><td>m</td><td>0</td></tr><tr><th>2</th><td>a2</td><td>-0.6</td><td>4.9</td><td>0.88</td><td>0.3</td><td>1</td><td>f</td><td>0</td></tr><tr><th>3</th><td>a3</td><td>-2.07</td><td>3.19</td><td>0.73</td><td>0.7</td><td>2</td><td>f</td><td>0</td></tr><tr><th>4</th><td>a4</td><td>-2.63</td><td>6.97</td><td>-0.83</td><td>0.6</td><td>1</td><td>m</td><td>a2</td></tr><tr><th>5</th><td>a5</td><td>2.31</td><td>3.5</td><td>-1.52</td><td>0.4</td><td>2</td><td>m</td><td>a2</td></tr><tr><th>6</th><td>a6</td><td>0.93</td><td>4.87</td><td>-0.01</td><td>5.0</td><td>2</td><td>f</td><td>a3</td></tr></tbody></table>"
      ],
      "text/plain": [
       "6×8 DataFrames.DataFrame\n",
       "│ Row │ ID │ y1    │ y2   │ y3    │ x1  │ x2 │ x3 │ dam │\n",
       "├─────┼────┼───────┼──────┼───────┼─────┼────┼────┼─────┤\n",
       "│ 1   │ a1 │ -0.06 │ 3.58 │ -1.18 │ 0.9 │ 2  │ m  │ 0   │\n",
       "│ 2   │ a2 │ -0.6  │ 4.9  │ 0.88  │ 0.3 │ 1  │ f  │ 0   │\n",
       "│ 3   │ a3 │ -2.07 │ 3.19 │ 0.73  │ 0.7 │ 2  │ f  │ 0   │\n",
       "│ 4   │ a4 │ -2.63 │ 6.97 │ -0.83 │ 0.6 │ 1  │ m  │ a2  │\n",
       "│ 5   │ a5 │ 2.31  │ 3.5  │ -1.52 │ 0.4 │ 2  │ m  │ a2  │\n",
       "│ 6   │ a6 │ 0.93  │ 4.87 │ -0.01 │ 5.0 │ 2  │ f  │ a3  │"
      ]
     },
     "execution_count": 3,
     "metadata": {},
     "output_type": "execute_result"
    }
   ],
   "source": [
    "head(phenotypes)"
   ]
  },
  {
   "cell_type": "markdown",
   "metadata": {},
   "source": [
    "<div class=\"span5 alert alert-success\">\n",
    " <font size=\"5\" face=\"Georgia\">Univariate Linear Additive Genetic Model</font> \n",
    "</div>"
   ]
  },
  {
   "cell_type": "markdown",
   "metadata": {},
   "source": [
    "<button type=\"button\" class=\"btn btn-lg btn-primary\">Step 3: Build Model Equations</button> "
   ]
  },
  {
   "cell_type": "code",
   "execution_count": 4,
   "metadata": {},
   "outputs": [],
   "source": [
    "model_equation1  =\"y1 = intercept + x1*x3 + x2 + x3 + ID + dam\";"
   ]
  },
  {
   "cell_type": "code",
   "execution_count": 5,
   "metadata": {},
   "outputs": [],
   "source": [
    "R      = 1.0\n",
    "model1 = build_model(model_equation1,R);"
   ]
  },
  {
   "cell_type": "markdown",
   "metadata": {},
   "source": [
    "<button type=\"button\" class=\"btn btn-lg btn-primary\">Step 4: Set Factors or Covariates</button> "
   ]
  },
  {
   "cell_type": "code",
   "execution_count": 6,
   "metadata": {},
   "outputs": [],
   "source": [
    "set_covariate(model1,\"x1\");"
   ]
  },
  {
   "cell_type": "markdown",
   "metadata": {},
   "source": [
    "<button type=\"button\" class=\"btn btn-lg btn-primary\">Step 5: Set Random or Fixed Effects</button> "
   ]
  },
  {
   "cell_type": "code",
   "execution_count": 7,
   "metadata": {},
   "outputs": [],
   "source": [
    "G1 = 1.0\n",
    "G2 = eye(2)\n",
    "set_random(model1,\"x2\",G1);\n",
    "set_random(model1,\"ID dam\",pedigree,G2);"
   ]
  },
  {
   "cell_type": "markdown",
   "metadata": {},
   "source": [
    "<button type=\"button\" class=\"btn btn-lg btn-primary\">Step 6:Run Analysis</button> "
   ]
  },
  {
   "cell_type": "code",
   "execution_count": 8,
   "metadata": {},
   "outputs": [
    {
     "name": "stdout",
     "output_type": "stream",
     "text": [
      "MCMC Information:\n",
      "\n",
      "methods                        conventional (no markers)\n",
      "chain_length                                   5000\n",
      "burnin                                            0\n",
      "starting_value                                false\n",
      "printout_frequency                             5001\n",
      "output_samples_frequency                        100\n",
      "constraint                                    false\n",
      "missing_phenotypes                            false\n",
      "update_priors_frequency                           0\n",
      "\n",
      "Degree of freedom for hyper-parameters:\n",
      "residual variances:                           4.000\n",
      "iid random effect variances:                  4.000\n",
      "polygenic effect variances:                   4.000\n",
      "\n",
      "\n",
      "\n"
     ]
    },
    {
     "name": "stderr",
     "output_type": "stream",
     "text": [
      "\u001b[1m\u001b[33mWARNING: \u001b[39m\u001b[22m\u001b[33mThe file MCMC_samples_residual_variance.txt already exists!!! It is overwritten by the new output.\u001b[39m\n",
      "\u001b[1m\u001b[33mWARNING: \u001b[39m\u001b[22m\u001b[33mThe file MCMC_samples_polygenic_effects_variance.txt already exists!!! It is overwritten by the new output.\u001b[39m\n",
      "\u001b[1m\u001b[33mWARNING: \u001b[39m\u001b[22m\u001b[33mThe file MCMC_samples_x2_variances.txt already exists!!! It is overwritten by the new output.\u001b[39m\n",
      "\u001b[32mrunning MCMC for conventional (no markers)...100%|██████| Time: 0:00:01\u001b[39m\n"
     ]
    }
   ],
   "source": [
    "outputMCMCsamples(model1,\"x2\")\n",
    "out1=runMCMC(model1,phenotypes,chain_length=5000,output_samples_frequency=100);"
   ]
  },
  {
   "cell_type": "markdown",
   "metadata": {},
   "source": [
    "<button type=\"button\" class=\"btn btn-lg btn-primary\">Check Results</button> "
   ]
  },
  {
   "cell_type": "code",
   "execution_count": 9,
   "metadata": {},
   "outputs": [
    {
     "data": {
      "text/plain": [
       "Base.KeyIterator for a Dict{Any,Any} with 3 entries. Keys:\n",
       "  \"Posterior mean of polygenic effects covariance matrix\"\n",
       "  \"Posterior mean of residual variance\"\n",
       "  \"Posterior mean of location parameters\""
      ]
     },
     "execution_count": 9,
     "metadata": {},
     "output_type": "execute_result"
    }
   ],
   "source": [
    "keys(out1)"
   ]
  },
  {
   "cell_type": "code",
   "execution_count": 10,
   "metadata": {},
   "outputs": [
    {
     "data": {
      "text/plain": [
       "2×2 Array{Float64,2}:\n",
       " 3.31481   0.445166\n",
       " 0.445166  1.74885 "
      ]
     },
     "execution_count": 10,
     "metadata": {},
     "output_type": "execute_result"
    }
   ],
   "source": [
    "out1[\"Posterior mean of polygenic effects covariance matrix\"]"
   ]
  },
  {
   "cell_type": "markdown",
   "metadata": {},
   "source": [
    "<div class=\"span5 alert alert-success\">\n",
    " <font size=\"5\" face=\"Georgia\">Multivariate Linear Additive Genetic Model</font> \n",
    "</div>"
   ]
  },
  {
   "cell_type": "markdown",
   "metadata": {},
   "source": [
    "<button type=\"button\" class=\"btn btn-lg btn-primary\">Step 3: Build Model Equations</button> "
   ]
  },
  {
   "cell_type": "code",
   "execution_count": 11,
   "metadata": {},
   "outputs": [],
   "source": [
    "model_equation2 =\"y1 = intercept + x1 + x3 + ID + dam\n",
    "                  y2 = intercept + x1 + x2 + x3 + ID\n",
    "                  y3 = intercept + x1 + x1*x3 + x2 + ID\";"
   ]
  },
  {
   "cell_type": "code",
   "execution_count": 12,
   "metadata": {},
   "outputs": [],
   "source": [
    "R      = eye(3)\n",
    "model2 = build_model(model_equation2,R);"
   ]
  },
  {
   "cell_type": "markdown",
   "metadata": {},
   "source": [
    "<button type=\"button\" class=\"btn btn-lg btn-primary\">Step 4: Set Factors or Covariates</button> "
   ]
  },
  {
   "cell_type": "code",
   "execution_count": 13,
   "metadata": {},
   "outputs": [],
   "source": [
    "set_covariate(model2,\"x1\");"
   ]
  },
  {
   "cell_type": "markdown",
   "metadata": {},
   "source": [
    "<button type=\"button\" class=\"btn btn-lg btn-primary\">Step 5: Set Random or Fixed Effects</button> "
   ]
  },
  {
   "cell_type": "code",
   "execution_count": 14,
   "metadata": {},
   "outputs": [
    {
     "name": "stderr",
     "output_type": "stream",
     "text": [
      "\u001b[1m\u001b[36mINFO: \u001b[39m\u001b[22m\u001b[36mx2 is not found in model equation 1.\n",
      "\u001b[39m\u001b[1m\u001b[36mINFO: \u001b[39m\u001b[22m\u001b[36mdam is not found in model equation 2.\n",
      "\u001b[39m\u001b[1m\u001b[36mINFO: \u001b[39m\u001b[22m\u001b[36mdam is not found in model equation 3.\n",
      "\u001b[39m"
     ]
    }
   ],
   "source": [
    "G1 = eye(2)\n",
    "G2 = eye(4)\n",
    "set_random(model2,\"x2\",G1);\n",
    "set_random(model2,\"ID dam\",pedigree,G2);"
   ]
  },
  {
   "cell_type": "markdown",
   "metadata": {},
   "source": [
    "<button type=\"button\" class=\"btn btn-lg btn-primary\">Step 6: Run Analysis</button> "
   ]
  },
  {
   "cell_type": "code",
   "execution_count": 15,
   "metadata": {},
   "outputs": [
    {
     "name": "stdout",
     "output_type": "stream",
     "text": [
      "MCMC Information:\n",
      "\n",
      "methods                        conventional (no markers)\n",
      "chain_length                                   5000\n",
      "burnin                                            0\n",
      "starting_value                                false\n",
      "printout_frequency                             5001\n",
      "output_samples_frequency                        100\n",
      "constraint                                    false\n",
      "missing_phenotypes                            false\n",
      "update_priors_frequency                           0\n",
      "\n",
      "Degree of freedom for hyper-parameters:\n",
      "residual variances:                           4.000\n",
      "iid random effect variances:                  4.000\n",
      "polygenic effect variances:                   4.000\n",
      "\n",
      "\n",
      "\n"
     ]
    },
    {
     "name": "stderr",
     "output_type": "stream",
     "text": [
      "\u001b[1m\u001b[33mWARNING: \u001b[39m\u001b[22m\u001b[33mThe file MCMC_samples_residual_variance.txt already exists!!! It is overwritten by the new output.\u001b[39m\n",
      "\u001b[1m\u001b[33mWARNING: \u001b[39m\u001b[22m\u001b[33mThe file MCMC_samples_polygenic_effects_variance.txt already exists!!! It is overwritten by the new output.\u001b[39m\n",
      "\u001b[1m\u001b[33mWARNING: \u001b[39m\u001b[22m\u001b[33mThe file MCMC_samples_x2_variances.txt already exists!!! It is overwritten by the new output.\u001b[39m\n",
      "\u001b[32mrunning MCMC for conventional (no markers)...100%|██████| Time: 0:00:02\u001b[39m\n"
     ]
    }
   ],
   "source": [
    "outputMCMCsamples(model2,\"x2\")\n",
    "out2=runMCMC(model2,phenotypes,chain_length=5000,output_samples_frequency=100);"
   ]
  },
  {
   "cell_type": "markdown",
   "metadata": {},
   "source": [
    "<button type=\"button\" class=\"btn btn-lg btn-primary\">Check Results</button> "
   ]
  },
  {
   "cell_type": "code",
   "execution_count": 16,
   "metadata": {},
   "outputs": [
    {
     "data": {
      "text/plain": [
       "Base.KeyIterator for a Dict{Any,Any} with 3 entries. Keys:\n",
       "  \"Posterior mean of polygenic effects covariance matrix\"\n",
       "  \"Posterior mean of residual covariance matrix\"\n",
       "  \"Posterior mean of location parameters\""
      ]
     },
     "execution_count": 16,
     "metadata": {},
     "output_type": "execute_result"
    }
   ],
   "source": [
    "keys(out2)"
   ]
  },
  {
   "cell_type": "code",
   "execution_count": 17,
   "metadata": {},
   "outputs": [
    {
     "data": {
      "text/plain": [
       "4×4 Array{Float64,2}:\n",
       "  2.56285    -1.56949   -0.335866    0.0255239\n",
       " -1.56949     2.24862    0.369739   -0.05293  \n",
       " -0.335866    0.369739   0.920689    0.0433218\n",
       "  0.0255239  -0.05293    0.0433218   1.08091  "
      ]
     },
     "execution_count": 17,
     "metadata": {},
     "output_type": "execute_result"
    }
   ],
   "source": [
    "out2[\"Posterior mean of polygenic effects covariance matrix\"]"
   ]
  },
  {
   "cell_type": "code",
   "execution_count": null,
   "metadata": {},
   "outputs": [],
   "source": []
  }
 ],
 "metadata": {
  "anaconda-cloud": {},
  "kernelspec": {
   "display_name": "Julia 0.6.2",
   "language": "julia",
   "name": "julia-0.6"
  },
  "language_info": {
   "file_extension": ".jl",
   "mimetype": "application/julia",
   "name": "julia",
   "version": "0.6.2"
  }
 },
 "nbformat": 4,
 "nbformat_minor": 1
}
