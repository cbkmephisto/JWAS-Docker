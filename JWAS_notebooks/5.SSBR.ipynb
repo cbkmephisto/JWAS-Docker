{
 "cells": [
  {
   "cell_type": "markdown",
   "metadata": {},
   "source": [
    "### data format"
   ]
  },
  {
   "cell_type": "markdown",
   "metadata": {},
   "source": [
    "genotype\n",
    "```\n",
    "279 0 0 1 1 1\n",
    "280 1 0 0 2 2\n",
    "281 1 0 1 0 1\n",
    "```\n",
    "phenotype\n",
    "```\n",
    "5 1.869\n",
    "6 -1.140\n",
    "7 1.253\n",
    "```\n",
    "pedigree\n",
    "```\n",
    "1 0 0\n",
    "2 0 0\n",
    "3 1 2\n",
    "```\n",
    "\n",
    "* Founders are denoted as 0 in pedigree.\n",
    "* Animal IDs can be any string, don't have to be numbers.\n",
    "* Headers(marker IDs) for genotypes can be included."
   ]
  },
  {
   "cell_type": "markdown",
   "metadata": {},
   "source": [
    "### input parameters\n",
    "\n",
    "```julia\n",
    "input=InputParameters()\n",
    "fieldnames(input)\n",
    "\n",
    "#13-element Array{Symbol,1}:\n",
    "# :seed            \n",
    "# :method          \n",
    "# :chainLength     \n",
    "# :outFreq         \n",
    "# :probFixed       \n",
    "# :varGenotypic    \n",
    "# :varResidual     \n",
    "# :estimateVariance\n",
    "# :estimatePi      \n",
    "# :estimateScale   \n",
    "# :dfEffectVar     \n",
    "# :nuRes           \n",
    "# :nuGen  \n",
    "```"
   ]
  },
  {
   "cell_type": "markdown",
   "metadata": {},
   "source": [
    "### methods\n",
    "\n",
    "Methods in the SSBR package:\n",
    "\n",
    "1. BayesC0_constantvariance\n",
    "2. BayesC0\n",
    "3. BayesB\n",
    "4. BayesC\n",
    "\n",
    "Coming..\n",
    "\n",
    "ssGBLUP\n",
    "exact ssGBLUP\n",
    "APY ssGBLUP\n"
   ]
  },
  {
   "cell_type": "markdown",
   "metadata": {},
   "source": [
    "# SSBR\n",
    "\n",
    "SSBR is a tool for single step Bayesian regression analyses.\n",
    "\n",
    "\n",
    "#### Quick-start\n",
    "\n",
    "```Julia\n",
    "using JWAS: Datasets,SSBR,misc\n",
    "\n",
    "#data files from QTLDatasets package\n",
    "pedfile    = Datasets.dataset(\"testSSBR\",\"ped.txt\")\n",
    "genofile   = Datasets.dataset(\"testSSBR\",\"genotype.txt\")\n",
    "phenofile  = Datasets.dataset(\"testSSBR\",\"phenotype.txt\")\n",
    "fixedfile  = Datasets.dataset(\"testSSBR\",\"fixed.txt\")\n",
    "Validation = Datasets.dataset(\"testSSBR\",\"validation.txt\")\n",
    "\n",
    "#set up input parameters\n",
    "input=InputParameters()\n",
    "input.method       = \"BayesC\"\n",
    "input.varGenotypic = 4.48\n",
    "input.varResidual  = 6.72\n",
    "input.probFixed    = 0.99\n",
    "input.outFreq      = 10000\n",
    "\n",
    "\n",
    "MCMCinfo(input)\n",
    "#MCMC Information:\n",
    "#seed                        314\n",
    "#chainLength               50000\n",
    "#method                   BayesC\n",
    "#outFreq                    1000\n",
    "#probFixed                 0.990\n",
    "#varGenotypic              4.480\n",
    "#varResidual               6.720\n",
    "#estimateVariance           true\n",
    "#estimatePi                false\n",
    "#estimateScale             false\n",
    "#dfEffectVar               4.000\n",
    "#nuRes                     4.000\n",
    "#nuGen                     4.000\n",
    "#centering                 false\n",
    "\n",
    "\n",
    "#run it\n",
    "out=runSSBR(input,pedigree=pedfile,genotype=genofile,phenotype=phenofile,fixedfile=fixedfile);\n",
    "\n",
    "#check accuracy\n",
    "using DataFrames\n",
    "df = readtable(Validation, eltypes =[String, Float64], separator = ' ',header=false,names=[:ID,:EBV]);\n",
    "comp=join(out,df,on=:ID);\n",
    "cor(comp[:EBV],comp[:EBV_1])\n",
    "\n",
    "```\n",
    "\n",
    "#### More\n",
    "\n",
    "* **homepage**: [QTL.rocks](http://QTL.rocks)\n",
    "* **Documentation**: [available here](https://github.com/QTL-rocks/SSBR.jl/wiki)\n",
    "* **Authors**: [Hao Cheng](http://reworkhow.github.io),[Rohan Fernando](http://www.ans.iastate.edu/faculty/index.php?id=rohan)\n"
   ]
  },
  {
   "cell_type": "code",
   "execution_count": null,
   "metadata": {
    "collapsed": true
   },
   "outputs": [],
   "source": []
  }
 ],
 "metadata": {
  "kernelspec": {
   "display_name": "Julia 0.4.6",
   "language": "julia",
   "name": "julia-0.4"
  },
  "language_info": {
   "file_extension": ".jl",
   "mimetype": "application/julia",
   "name": "julia",
   "version": "0.4.6"
  }
 },
 "nbformat": 4,
 "nbformat_minor": 0
}
