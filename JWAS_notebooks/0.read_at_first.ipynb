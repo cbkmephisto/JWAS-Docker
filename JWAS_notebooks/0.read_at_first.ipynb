{
 "cells": [
  {
   "cell_type": "markdown",
   "metadata": {},
   "source": [
    "## JWAS Module"
   ]
  },
  {
   "cell_type": "code",
   "execution_count": 2,
   "metadata": {},
   "outputs": [],
   "source": [
    "using JWAS"
   ]
  },
  {
   "cell_type": "code",
   "execution_count": 3,
   "metadata": {},
   "outputs": [
    {
     "name": "stdout",
     "output_type": "stream",
     "text": [
      "search: \u001b[1mJ\u001b[22m\u001b[1mW\u001b[22m\u001b[1mA\u001b[22m\u001b[1mS\u001b[22m\n",
      "\n"
     ]
    },
    {
     "data": {
      "text/markdown": [
       "No documentation found.\n",
       "\n",
       "Displaying the `README.md` for the module instead.\n",
       "\n",
       "---\n",
       "\n",
       "# JWAS.jl\n",
       "\n",
       "[![Build Status](https://travis-ci.org/reworkhow/JWAS.jl.svg?branch=master)](https://travis-ci.org/reworkhow/JWAS.jl)\n",
       "\n",
       "JWAS.jl is an open-source software tool written in Julia for Bayesian multiple regression methods applied to genome-wide association studies and genomic prediction.\n",
       "\n",
       "  * **Homepage**: [QTL.rocks](http://QTL.rocks)\n",
       "  * **Installation**: at the Julia REPL, `Pkg.add(\"JWAS\")`\n",
       "  * **Documentation**: [available here](http://nbviewer.jupyter.org/github/reworkhow/JWAS.jl/tree/master/docs/index.ipynb)\n",
       "  * **Authors**: [Hao Cheng](QTL.rocks), [Rohan Fernando](http://www.ans.iastate.edu/people/rohan-fernando), [Dorian Garrick](https://www.massey.ac.nz/massey/learning/colleges/college-of-sciences/staff-list.cfm?stref=600130)\n",
       "\n",
       "### Structure of JWAS Module\n",
       "\n",
       "```\n",
       "JWAS.jl\n",
       "\n",
       "├────── build_model\n",
       "├────── set_covariate\n",
       "├────── set_random\n",
       "├────── get_pedigree\n",
       "├────── add_markers\n",
       "├────── outputMCMCsamples\n",
       "├────── showMME\n",
       "├────── solve\n",
       "└────── runMCMC\n",
       "\n",
       "├──────── PedModule.jl\n",
       "\n",
       "├──────── Datasets.jl\n",
       "\n",
       "├──────── SSBR.jl\n",
       "\n",
       "├──────── misc.jl\n",
       "           ├── get_breeding_values\n",
       "           ├── get_additive_genetic_variances\n",
       "           ├── get_heritability\n",
       "           ├── get_correlations\n",
       "           └── report\n",
       "\n",
       "\n",
       "```\n",
       "\n",
       "### Help\n",
       "\n",
       "1. Show this README file in REPL or notebook using `?JWAS`\n",
       "2. For help on a specific function above, type ? followed by its name, e.g. `?runMCMC` and press enter.\n",
       "3. Run `Pkg.checkout(\"JWAS\")` to get the newest unofficial JWAS. Run `Pkg.free(\"JWAS\")` to go back to the offical one.\n"
      ],
      "text/plain": [
       "No documentation found.\n",
       "\n",
       "Displaying the `README.md` for the module instead.\n",
       "\n",
       "---\n",
       "\n",
       "# JWAS.jl\n",
       "\n",
       "[![Build Status](https://travis-ci.org/reworkhow/JWAS.jl.svg?branch=master)](https://travis-ci.org/reworkhow/JWAS.jl)\n",
       "\n",
       "JWAS.jl is an open-source software tool written in Julia for Bayesian multiple regression methods applied to genome-wide association studies and genomic prediction.\n",
       "\n",
       "  * **Homepage**: [QTL.rocks](http://QTL.rocks)\n",
       "  * **Installation**: at the Julia REPL, `Pkg.add(\"JWAS\")`\n",
       "  * **Documentation**: [available here](http://nbviewer.jupyter.org/github/reworkhow/JWAS.jl/tree/master/docs/index.ipynb)\n",
       "  * **Authors**: [Hao Cheng](QTL.rocks), [Rohan Fernando](http://www.ans.iastate.edu/people/rohan-fernando), [Dorian Garrick](https://www.massey.ac.nz/massey/learning/colleges/college-of-sciences/staff-list.cfm?stref=600130)\n",
       "\n",
       "### Structure of JWAS Module\n",
       "\n",
       "```\n",
       "JWAS.jl\n",
       "\n",
       "├────── build_model\n",
       "├────── set_covariate\n",
       "├────── set_random\n",
       "├────── get_pedigree\n",
       "├────── add_markers\n",
       "├────── outputMCMCsamples\n",
       "├────── showMME\n",
       "├────── solve\n",
       "└────── runMCMC\n",
       "\n",
       "├──────── PedModule.jl\n",
       "\n",
       "├──────── Datasets.jl\n",
       "\n",
       "├──────── SSBR.jl\n",
       "\n",
       "├──────── misc.jl\n",
       "           ├── get_breeding_values\n",
       "           ├── get_additive_genetic_variances\n",
       "           ├── get_heritability\n",
       "           ├── get_correlations\n",
       "           └── report\n",
       "\n",
       "\n",
       "```\n",
       "\n",
       "### Help\n",
       "\n",
       "1. Show this README file in REPL or notebook using `?JWAS`\n",
       "2. For help on a specific function above, type ? followed by its name, e.g. `?runMCMC` and press enter.\n",
       "3. Run `Pkg.checkout(\"JWAS\")` to get the newest unofficial JWAS. Run `Pkg.free(\"JWAS\")` to go back to the offical one.\n"
      ]
     },
     "execution_count": 3,
     "metadata": {},
     "output_type": "execute_result"
    }
   ],
   "source": [
    "?JWAS"
   ]
  },
  {
   "cell_type": "code",
   "execution_count": 4,
   "metadata": {},
   "outputs": [
    {
     "name": "stdout",
     "output_type": "stream",
     "text": [
      "search: \u001b[1ma\u001b[22m\u001b[1md\u001b[22m\u001b[1md\u001b[22m\u001b[1m_\u001b[22m\u001b[1mg\u001b[22m\u001b[1me\u001b[22m\u001b[1mn\u001b[22m\u001b[1mo\u001b[22m\u001b[1mt\u001b[22m\u001b[1my\u001b[22m\u001b[1mp\u001b[22m\u001b[1me\u001b[22m\u001b[1ms\u001b[22m\n",
      "\n"
     ]
    },
    {
     "data": {
      "text/markdown": [
       "```\n",
       "add_genotypes(mme::MME,file,G;separator=' ',header=true,center=true,G_is_marker_variance=false,df=4.0)\n",
       "```\n",
       "\n",
       "  * Get marker informtion from a genotype file (same order as the phenotype file).\n",
       "  * **G** defaults to the genetic variance with degree of freedom **df**=4.0.\n",
       "  * File format:\n",
       "\n",
       "```\n",
       "Animal,marker1,marker2,marker3,marker4,marker5\n",
       "S1,1,0,1,1,1\n",
       "D1,2,0,2,2,1\n",
       "O1,1,2,0,1,0\n",
       "O3,0,0,2,1,1\n",
       "```\n"
      ],
      "text/plain": [
       "```\n",
       "add_genotypes(mme::MME,file,G;separator=' ',header=true,center=true,G_is_marker_variance=false,df=4.0)\n",
       "```\n",
       "\n",
       "  * Get marker informtion from a genotype file (same order as the phenotype file).\n",
       "  * **G** defaults to the genetic variance with degree of freedom **df**=4.0.\n",
       "  * File format:\n",
       "\n",
       "```\n",
       "Animal,marker1,marker2,marker3,marker4,marker5\n",
       "S1,1,0,1,1,1\n",
       "D1,2,0,2,2,1\n",
       "O1,1,2,0,1,0\n",
       "O3,0,0,2,1,1\n",
       "```\n"
      ]
     },
     "execution_count": 4,
     "metadata": {},
     "output_type": "execute_result"
    }
   ],
   "source": [
    "?add_genotypes"
   ]
  }
 ],
 "metadata": {
  "kernelspec": {
   "display_name": "Julia 0.6.2",
   "language": "julia",
   "name": "julia-0.6"
  },
  "language_info": {
   "file_extension": ".jl",
   "mimetype": "application/julia",
   "name": "julia",
   "version": "0.6.2"
  }
 },
 "nbformat": 4,
 "nbformat_minor": 1
}
