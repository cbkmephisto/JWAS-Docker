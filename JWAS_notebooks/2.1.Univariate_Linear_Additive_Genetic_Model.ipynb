{
 "cells": [
  {
   "cell_type": "markdown",
   "metadata": {},
   "source": [
    "<ul class=\"breadcrumb\">\n",
    "  <li><a href=\"1.1.Univaraite_Linear_Mixed_Effects_Model.ipynb\">Univariate Basics</a></li>\n",
    "  <li><a href=\"2.1.Univariate_Linear_Additive_Genetic_Model.ipynb\">Univariate Additive Genetic Model</a></li> \n",
    "  <li><a href=\"3.1.Univariate_Linear_Mixed_Effects_Model_with_Genomic_Data.ipynb\">Univariate Genomic Data</a></li>\n",
    "</ul>"
   ]
  },
  {
   "cell_type": "markdown",
   "metadata": {},
   "source": [
    "<div class=\"span5 alert alert-success\">\n",
    " <font size=\"5\" face=\"Georgia\">Univariate Linear Additive Genetic Model</font><br> \n",
    "  <font size=\"5\" face=\"Georgia\">(with Maternal Effects)</font> \n",
    "\n",
    "</div>"
   ]
  },
  {
   "cell_type": "code",
   "execution_count": 1,
   "metadata": {},
   "outputs": [],
   "source": [
    "using DataFrames,CSV,JWAS,JWAS.Datasets"
   ]
  },
  {
   "cell_type": "markdown",
   "metadata": {},
   "source": [
    "<div class=\"span5 alert alert-info\">\n",
    " <font size=\"5\" face=\"Georgia\">I. Univariate Linear Additive Genetic Model</font><br> \n",
    "</div>"
   ]
  },
  {
   "cell_type": "markdown",
   "metadata": {},
   "source": [
    "<button type=\"button\" class=\"btn btn-lg btn-primary\">Data</button> "
   ]
  },
  {
   "cell_type": "code",
   "execution_count": 2,
   "metadata": {},
   "outputs": [],
   "source": [
    "pedfile   = Datasets.dataset(\"testMME\",\"pedigree.txt\")\n",
    "phenofile = Datasets.dataset(\"testMME\",\"simple.txt\");"
   ]
  },
  {
   "cell_type": "code",
   "execution_count": 3,
   "metadata": {},
   "outputs": [
    {
     "name": "stdout",
     "output_type": "stream",
     "text": [
      "S1 0 0\n",
      "D1 0 0\n",
      "O1 S1 D1\n",
      "O2 S1 D1\n",
      "O3 S1 D1\n"
     ]
    }
   ],
   "source": [
    ";cat $pedfile"
   ]
  },
  {
   "cell_type": "code",
   "execution_count": 4,
   "metadata": {},
   "outputs": [],
   "source": [
    "d1 = CSV.read(phenofile,delim = ',',header=true,missingstring=\"NA\");"
   ]
  },
  {
   "cell_type": "markdown",
   "metadata": {},
   "source": [
    "<button type=\"button\" class=\"btn btn-lg btn-primary\">Build Model</button> "
   ]
  },
  {
   "cell_type": "code",
   "execution_count": 5,
   "metadata": {},
   "outputs": [
    {
     "name": "stderr",
     "output_type": "stream",
     "text": [
      "\r",
      "\u001b[32mcoding pedigree...  20%|██████                          |  ETA: 0:00:01\u001b[39m"
     ]
    },
    {
     "name": "stdout",
     "output_type": "stream",
     "text": [
      "Finished!\n"
     ]
    },
    {
     "name": "stderr",
     "output_type": "stream",
     "text": [
      "\u001b[32mcoding pedigree... 100%|████████████████████████████████| Time: 0:00:00\u001b[39m\n"
     ]
    }
   ],
   "source": [
    "ped = get_pedigree(pedfile);"
   ]
  },
  {
   "cell_type": "code",
   "execution_count": 6,
   "metadata": {},
   "outputs": [],
   "source": [
    "varRes=1.0\n",
    "model1 = build_model(\"y = intercept + Age + Animal\",varRes)\n",
    "set_covariate(model1,\"Age\")\n",
    "G=2.5\n",
    "set_random(model1,\"Animal\",ped,G)"
   ]
  },
  {
   "cell_type": "markdown",
   "metadata": {},
   "source": [
    "<button type=\"button\" class=\"btn btn-lg btn-primary\">Run Model</button> "
   ]
  },
  {
   "cell_type": "code",
   "execution_count": 7,
   "metadata": {},
   "outputs": [
    {
     "name": "stdout",
     "output_type": "stream",
     "text": [
      "40 3.3923200477199566e-5\n"
     ]
    },
    {
     "data": {
      "text/plain": [
       "7×2 Array{Any,2}:\n",
       " \"1:intercept : intercept\"  -1.00435   \n",
       " \"1:Age : Age\"               0.204266  \n",
       " \"1:Animal : S1\"             0.116387  \n",
       " \"1:Animal : D1\"            -0.122438  \n",
       " \"1:Animal : O1\"            -0.294925  \n",
       " \"1:Animal : O3\"             0.996334  \n",
       " \"1:Animal : O2\"            -0.00302537"
      ]
     },
     "execution_count": 7,
     "metadata": {},
     "output_type": "execute_result"
    }
   ],
   "source": [
    "out = solve(model1,d1,solver=\"GaussSeidel\",printout_frequency=40)"
   ]
  },
  {
   "cell_type": "markdown",
   "metadata": {},
   "source": [
    "<button type=\"button\" class=\"btn btn-lg btn-primary\">Check Results</button> "
   ]
  },
  {
   "cell_type": "markdown",
   "metadata": {},
   "source": [
    "<div class=\"span5 alert alert-info\">\n",
    " <font size=\"5\" face=\"Georgia\">II. Univariate Linear Additive Genetic Model with Repeated Measures</font><br> \n",
    "</div>"
   ]
  },
  {
   "cell_type": "markdown",
   "metadata": {},
   "source": [
    "<button type=\"button\" class=\"btn btn-lg btn-primary\">Data</button> "
   ]
  },
  {
   "cell_type": "code",
   "execution_count": 8,
   "metadata": {},
   "outputs": [],
   "source": [
    "phenofile = Datasets.dataset(\"testMME\",\"repeated_measures.txt\")\n",
    "d2 = CSV.read(phenofile,delim = ',',header=true,missingstring=\"NA\");"
   ]
  },
  {
   "cell_type": "markdown",
   "metadata": {},
   "source": [
    "<button type=\"button\" class=\"btn btn-lg btn-primary\">Build Model</button> "
   ]
  },
  {
   "cell_type": "code",
   "execution_count": 9,
   "metadata": {},
   "outputs": [],
   "source": [
    "varRes=1.0\n",
    "model2 = build_model(\"y = intercept + Age + Animal + Animal*Age\",varRes)\n",
    "set_covariate(model2,\"Age\")\n",
    "G = [1 0.1; 0.1 1.0]\n",
    "set_random(model2,\"Animal Animal*Age\",ped,G)"
   ]
  },
  {
   "cell_type": "markdown",
   "metadata": {},
   "source": [
    "<button type=\"button\" class=\"btn btn-lg btn-primary\">Run Model</button> "
   ]
  },
  {
   "cell_type": "code",
   "execution_count": 10,
   "metadata": {},
   "outputs": [
    {
     "name": "stdout",
     "output_type": "stream",
     "text": [
      "40 0.004079837352814904\n",
      "80 0.0008468686195409121\n",
      "120 0.00026899969970286267\n",
      "160 9.606419899377913e-5\n",
      "200 3.649498312582733e-5\n",
      "240 1.4825947812909268e-5\n",
      "280 6.569648963398997e-6\n",
      "320 3.2261059576412398e-6\n",
      "360 1.7555444111655143e-6\n",
      "400 1.0411088953585247e-6\n"
     ]
    },
    {
     "data": {
      "text/plain": [
       "12×2 Array{Any,2}:\n",
       " \"1:intercept : intercept\"  -0.590464   \n",
       " \"1:Age : Age\"               0.0738261  \n",
       " \"1:Animal : S1\"            -0.0839778  \n",
       " \"1:Animal : D1\"             0.0822513  \n",
       " \"1:Animal : O1\"             0.191167   \n",
       " \"1:Animal : O3\"             0.204641   \n",
       " \"1:Animal : O2\"            -0.000908243\n",
       " \"1:Animal*Age : S1\"        -0.0943315  \n",
       " \"1:Animal*Age : D1\"         0.099499   \n",
       " \"1:Animal*Age : O1\"        -0.0351528  \n",
       " \"1:Animal*Age : O3\"         0.267083   \n",
       " \"1:Animal*Age : O2\"         0.00261206 "
      ]
     },
     "execution_count": 10,
     "metadata": {},
     "output_type": "execute_result"
    }
   ],
   "source": [
    "out = solve(model2,d2,solver=\"Jacobi\",printout_frequency=40)"
   ]
  },
  {
   "cell_type": "code",
   "execution_count": 11,
   "metadata": {},
   "outputs": [
    {
     "name": "stdout",
     "output_type": "stream",
     "text": [
      "MCMC Information:\n",
      "\n",
      "methods                        conventional (no markers)\n",
      "chain_length                                   1000\n",
      "starting_value                                false\n",
      "printout_frequency                             1001\n",
      "output_samples_frequency                          0\n",
      "constraint                                    false\n",
      "missing_phenotypes                            false\n",
      "update_priors_frequency                           0\n",
      "\n",
      "Degree of freedom for hyper-parameters:\n",
      "residual variances:                           4.000\n",
      "iid random effect variances:                  4.000\n",
      "polygenic effect variances:                   4.000\n",
      "marker effect variances:                      4.000\n",
      "\n",
      "\n",
      "\n"
     ]
    },
    {
     "name": "stderr",
     "output_type": "stream",
     "text": [
      "\r",
      "\u001b[32mrunning MCMC for conventional analyses...  0%|          |  ETA: 0:12:06\u001b[39m\r",
      "\u001b[32mrunning MCMC for conventional analyses...100%|██████████| Time: 0:00:01\u001b[39m\n"
     ]
    }
   ],
   "source": [
    "out = runMCMC(model2,d2,chain_length=1000);"
   ]
  },
  {
   "cell_type": "markdown",
   "metadata": {},
   "source": [
    "<button type=\"button\" class=\"btn btn-lg btn-primary\">Check Results</button> "
   ]
  },
  {
   "cell_type": "markdown",
   "metadata": {},
   "source": [
    "<div class=\"span5 alert alert-info\">\n",
    " <font size=\"5\" face=\"Georgia\">III. The Univariate Linear Additive Genetic Model with Maternal Effects</font> \n",
    "</div>"
   ]
  },
  {
   "cell_type": "markdown",
   "metadata": {},
   "source": [
    "<button type=\"button\" class=\"btn btn-lg btn-primary\">Data</button> "
   ]
  },
  {
   "cell_type": "code",
   "execution_count": 12,
   "metadata": {},
   "outputs": [],
   "source": [
    "phenofile = Datasets.dataset(\"testMME\",\"maternal_effects.txt\")\n",
    "d3 = CSV.read(phenofile,delim = ',',header=true,missingstring=\"NA\");"
   ]
  },
  {
   "cell_type": "code",
   "execution_count": 13,
   "metadata": {},
   "outputs": [
    {
     "name": "stdout",
     "output_type": "stream",
     "text": [
      "S1 0 0\n",
      "D1 0 0\n",
      "O1 S1 D1\n",
      "O2 S1 D1\n",
      "O3 S1 D1\n"
     ]
    }
   ],
   "source": [
    ";cat $pedfile"
   ]
  },
  {
   "cell_type": "markdown",
   "metadata": {},
   "source": [
    "<button type=\"button\" class=\"btn btn-lg btn-primary\">Build Model</button> "
   ]
  },
  {
   "cell_type": "code",
   "execution_count": 14,
   "metadata": {},
   "outputs": [],
   "source": [
    "varRes = 1.0\n",
    "model3 = build_model(\"y = intercept + Animal + Dam\",varRes);"
   ]
  },
  {
   "cell_type": "code",
   "execution_count": 15,
   "metadata": {},
   "outputs": [],
   "source": [
    "G = [1 0.1; 0.1 1.0]\n",
    "set_random(model3,\"Animal Dam\",ped,G)"
   ]
  },
  {
   "cell_type": "markdown",
   "metadata": {},
   "source": [
    "<button type=\"button\" class=\"btn btn-lg btn-primary\">Run Model</button> "
   ]
  },
  {
   "cell_type": "code",
   "execution_count": 16,
   "metadata": {},
   "outputs": [
    {
     "name": "stdout",
     "output_type": "stream",
     "text": [
      "at sample: 1000\n",
      "at sample: 2000\n",
      "at sample: 3000\n",
      "at sample: 4000\n",
      "at sample: 5000\n"
     ]
    },
    {
     "data": {
      "text/plain": [
       "11×2 Array{Any,2}:\n",
       " \"1:intercept : intercept\"  -0.600185  \n",
       " \"1:Animal : S1\"            -0.131836  \n",
       " \"1:Animal : D1\"             0.32146   \n",
       " \"1:Animal : O1\"             0.038119  \n",
       " \"1:Animal : O3\"             0.379127  \n",
       " \"1:Animal : O2\"             0.104298  \n",
       " \"1:Dam : S1\"               -0.00835493\n",
       " \"1:Dam : D1\"                0.437021  \n",
       " \"1:Dam : O1\"                0.210997  \n",
       " \"1:Dam : O3\"                0.244291  \n",
       " \"1:Dam : O2\"                0.217373  "
      ]
     },
     "execution_count": 16,
     "metadata": {},
     "output_type": "execute_result"
    }
   ],
   "source": [
    "out = solve(model3,d3,solver=\"Gibbs\",printout_frequency=1000)"
   ]
  },
  {
   "cell_type": "code",
   "execution_count": 17,
   "metadata": {},
   "outputs": [
    {
     "name": "stdout",
     "output_type": "stream",
     "text": [
      "MCMC Information:\n",
      "\n",
      "methods                        conventional (no markers)\n",
      "chain_length                                   1000\n",
      "starting_value                                false\n",
      "printout_frequency                             1001\n",
      "output_samples_frequency                         10\n",
      "constraint                                    false\n",
      "missing_phenotypes                            false\n",
      "update_priors_frequency                           0\n",
      "\n",
      "Degree of freedom for hyper-parameters:\n",
      "residual variances:                           4.000\n",
      "iid random effect variances:                  4.000\n",
      "polygenic effect variances:                   4.000\n",
      "marker effect variances:                      4.000\n",
      "\n",
      "\n",
      "\n"
     ]
    },
    {
     "name": "stderr",
     "output_type": "stream",
     "text": [
      "\u001b[32mrunning MCMC for conventional analyses...100%|██████████| Time: 0:00:00\u001b[39m\n"
     ]
    }
   ],
   "source": [
    "outputMCMCsamples(model3,\"Animal\");\n",
    "out = runMCMC(model3,d3,chain_length=1000,output_samples_frequency=10);"
   ]
  },
  {
   "cell_type": "markdown",
   "metadata": {},
   "source": [
    "<button type=\"button\" class=\"btn btn-lg btn-primary\">Check Results</button> "
   ]
  },
  {
   "cell_type": "code",
   "execution_count": 18,
   "metadata": {},
   "outputs": [
    {
     "data": {
      "text/plain": [
       "Base.KeyIterator for a Dict{Any,Any} with 4 entries. Keys:\n",
       "  \"MCMC samples for residual variance\"\n",
       "  \"MCMC samples for polygenic effects var-cov parameters\"\n",
       "  \"MCMC samples for: 1:Animal\"\n",
       "  \"Posterior mean of location parameters\""
      ]
     },
     "execution_count": 18,
     "metadata": {},
     "output_type": "execute_result"
    }
   ],
   "source": [
    "keys(out)"
   ]
  },
  {
   "cell_type": "code",
   "execution_count": 19,
   "metadata": {},
   "outputs": [
    {
     "data": {
      "text/plain": [
       "11×2 Array{Any,2}:\n",
       " \"1:intercept : intercept\"  -0.491522 \n",
       " \"1:Animal : S1\"            -0.234446 \n",
       " \"1:Animal : D1\"             0.213173 \n",
       " \"1:Animal : O1\"            -0.0987536\n",
       " \"1:Animal : O3\"             0.282964 \n",
       " \"1:Animal : O2\"            -0.0313775\n",
       " \"1:Dam : S1\"               -0.0284262\n",
       " \"1:Dam : D1\"                0.442323 \n",
       " \"1:Dam : O1\"                0.190883 \n",
       " \"1:Dam : O3\"                0.258866 \n",
       " \"1:Dam : O2\"                0.199953 "
      ]
     },
     "execution_count": 19,
     "metadata": {},
     "output_type": "execute_result"
    }
   ],
   "source": [
    "out[\"Posterior mean of location parameters\"]"
   ]
  },
  {
   "cell_type": "code",
   "execution_count": 20,
   "metadata": {},
   "outputs": [
    {
     "data": {
      "text/plain": [
       "5×101 Array{Any,2}:\n",
       " \"1:Animal : S1\"  -0.334772  0.117466  …  -0.380534    0.0736835  -0.436256 \n",
       " \"1:Animal : D1\"   0.212599  1.07419      -0.161674    0.173539    0.331069 \n",
       " \"1:Animal : O1\"   0.224774  0.657738     -0.0616627   0.556204    0.0990967\n",
       " \"1:Animal : O3\"   0.997703  0.969554      0.116589    0.691364    0.904834 \n",
       " \"1:Animal : O2\"  -0.160452  0.927943      0.0332798  -0.0560493   0.405387 "
      ]
     },
     "execution_count": 20,
     "metadata": {},
     "output_type": "execute_result"
    }
   ],
   "source": [
    "out[\"MCMC samples for: 1:Animal\"]"
   ]
  }
 ],
 "metadata": {
  "kernelspec": {
   "display_name": "Julia 0.6.2",
   "language": "julia",
   "name": "julia-0.6"
  },
  "language_info": {
   "file_extension": ".jl",
   "mimetype": "application/julia",
   "name": "julia",
   "version": "0.6.2"
  }
 },
 "nbformat": 4,
 "nbformat_minor": 1
}
