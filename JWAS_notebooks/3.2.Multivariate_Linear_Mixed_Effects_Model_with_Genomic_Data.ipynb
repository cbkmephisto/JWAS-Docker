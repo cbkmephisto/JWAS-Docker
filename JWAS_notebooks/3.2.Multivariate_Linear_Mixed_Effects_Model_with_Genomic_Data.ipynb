{
 "cells": [
  {
   "cell_type": "markdown",
   "metadata": {},
   "source": [
    "<ul class=\"breadcrumb\">\n",
    "  <li><a href=\"1.2.Multivariate_Linear_Mixed_Effects_Model.ipynb\">Multivariate Basics</a></li>\n",
    "  <li><a href=\"2.2.Multivariate_Linear_Additive_Genetic_Model.ipynb\">Multivariate Additive Genetic Model</a></li> \n",
    "  <li><a href=\"3.2.Multivariate_Linear_Mixed_Effects_Model_with_Genomic_Data.ipynb\">Multivariate Genomic Data</a></li>\n",
    "</ul>"
   ]
  },
  {
   "cell_type": "markdown",
   "metadata": {},
   "source": [
    "<div class=\"span5 alert alert-success\">\n",
    " <font size=\"5\" face=\"Georgia\">Multivariate Linear Mixed Effects Model with Genomic Data</font> \n",
    "</div>"
   ]
  },
  {
   "cell_type": "code",
   "execution_count": 1,
   "metadata": {},
   "outputs": [],
   "source": [
    "using DataFrames,CSV,JWAS\n",
    "using JWAS: Datasets,misc"
   ]
  },
  {
   "cell_type": "code",
   "execution_count": 2,
   "metadata": {},
   "outputs": [
    {
     "name": "stdout",
     "output_type": "stream",
     "text": [
      "search: \u001b[1mr\u001b[22m\u001b[1mu\u001b[22m\u001b[1mn\u001b[22m\u001b[1mM\u001b[22m\u001b[1mC\u001b[22m\u001b[1mM\u001b[22m\u001b[1mC\u001b[22m\n",
      "\n"
     ]
    },
    {
     "data": {
      "text/markdown": [
       "```\n",
       "runMCMC(mme,df;Pi=0.0,estimatePi=false,chain_length=1000,starting_value=false,printout_frequency=100,missing_phenotypes=false,constraint=false,methods=\"conventional (no markers)\",output_samples_frequency::Int64 = 0)\n",
       "```\n",
       "\n",
       "Run MCMC (marker information included or not) with sampling of variance components.\n",
       "\n",
       "  * available **methods** include \"conventional (no markers)\", \"BayesC0\", \"BayesC\", \"BayesCC\",\"BayesB\".\n",
       "  * **missing_phenotypes**\n",
       "  * **Pi** for single-trait analyses is a number; **Pi** for multi-trait analyses is a dictionary such as `Pi=Dict([1.0; 1.0]=>0.7,[1.0; 0.0]=>0.1,[0.0; 1.0]=>0.1,[0.0; 0.0]=>0.1)`,\n",
       "\n",
       "      * if Pi (Π) is not provided in multi-trait analysis, it will be generated assuming all markers have effects on all traits.\n",
       "  * save MCMC samples every **output_samples_frequency** iterations\n",
       "  * **starting_value** can be provided as a vector for all location parameteres except marker effects.\n",
       "  * print out the monte carlo mean in REPL with **printout_frequency**\n",
       "  * **constraint**=true if constrain residual covariances between traits to be zero.\n"
      ],
      "text/plain": [
       "```\n",
       "runMCMC(mme,df;Pi=0.0,estimatePi=false,chain_length=1000,starting_value=false,printout_frequency=100,missing_phenotypes=false,constraint=false,methods=\"conventional (no markers)\",output_samples_frequency::Int64 = 0)\n",
       "```\n",
       "\n",
       "Run MCMC (marker information included or not) with sampling of variance components.\n",
       "\n",
       "  * available **methods** include \"conventional (no markers)\", \"BayesC0\", \"BayesC\", \"BayesCC\",\"BayesB\".\n",
       "  * **missing_phenotypes**\n",
       "  * **Pi** for single-trait analyses is a number; **Pi** for multi-trait analyses is a dictionary such as `Pi=Dict([1.0; 1.0]=>0.7,[1.0; 0.0]=>0.1,[0.0; 1.0]=>0.1,[0.0; 0.0]=>0.1)`,\n",
       "\n",
       "      * if Pi (Π) is not provided in multi-trait analysis, it will be generated assuming all markers have effects on all traits.\n",
       "  * save MCMC samples every **output_samples_frequency** iterations\n",
       "  * **starting_value** can be provided as a vector for all location parameteres except marker effects.\n",
       "  * print out the monte carlo mean in REPL with **printout_frequency**\n",
       "  * **constraint**=true if constrain residual covariances between traits to be zero.\n"
      ]
     },
     "execution_count": 2,
     "metadata": {},
     "output_type": "execute_result"
    }
   ],
   "source": [
    "?runMCMC"
   ]
  },
  {
   "cell_type": "markdown",
   "metadata": {},
   "source": [
    "<button type=\"button\" class=\"btn btn-lg btn-primary\">Data</button> "
   ]
  },
  {
   "cell_type": "code",
   "execution_count": 3,
   "metadata": {},
   "outputs": [],
   "source": [
    "phenofile = Datasets.dataset(\"testMT\",\"phenotype.txt\")\n",
    "genofile  = Datasets.dataset(\"testMT\",\"genotype.txt\")\n",
    "pedfile   = Datasets.dataset(\"testMT\",\"pedigree.txt\");"
   ]
  },
  {
   "cell_type": "markdown",
   "metadata": {},
   "source": [
    "### phenotypes"
   ]
  },
  {
   "cell_type": "code",
   "execution_count": 4,
   "metadata": {},
   "outputs": [
    {
     "name": "stdout",
     "output_type": "stream",
     "text": [
      "Animal,BW,CW,age,sex\n",
      "S1,100.0,10.0,8,M\n",
      "D1,50.0,12.9,7,F\n",
      "O1,150.0,13.0,3,M\n",
      "O3,40.0,5.0,4,F\n"
     ]
    }
   ],
   "source": [
    ";cat $phenofile"
   ]
  },
  {
   "cell_type": "markdown",
   "metadata": {},
   "source": [
    "### genotypes"
   ]
  },
  {
   "cell_type": "code",
   "execution_count": 5,
   "metadata": {},
   "outputs": [
    {
     "name": "stdout",
     "output_type": "stream",
     "text": [
      "Animal,x1,x2,x3,x4,x5\n",
      "S1,1.0,0.0,1.0,1.0,1.0\n",
      "D1,2.0,0.0,2.0,2.0,1.0\n",
      "O1,1.0,2.0,0.0,1.0,0.0\n",
      "O3,0.0,0.0,2.0,1.0,1.0\n"
     ]
    }
   ],
   "source": [
    ";cat $genofile"
   ]
  },
  {
   "cell_type": "markdown",
   "metadata": {},
   "source": [
    "### pedigree"
   ]
  },
  {
   "cell_type": "code",
   "execution_count": 6,
   "metadata": {},
   "outputs": [
    {
     "name": "stdout",
     "output_type": "stream",
     "text": [
      "S1 0 0\n",
      "D1 0 0\n",
      "O1 S1 D1\n",
      "O2 S1 D1\n",
      "O3 S1 D1\n"
     ]
    }
   ],
   "source": [
    ";cat $pedfile"
   ]
  },
  {
   "cell_type": "code",
   "execution_count": 7,
   "metadata": {},
   "outputs": [
    {
     "name": "stderr",
     "output_type": "stream",
     "text": [
      "\u001b[1m\u001b[33mWARNING: \u001b[39m\u001b[22m\u001b[33mnull option is deprecated, use missingstring instead\u001b[39m\n",
      "Stacktrace:\n",
      " [1] \u001b[1mdepwarn\u001b[22m\u001b[22m\u001b[1m(\u001b[22m\u001b[22m::String, ::Symbol\u001b[1m)\u001b[22m\u001b[22m at \u001b[1m./deprecated.jl:70\u001b[22m\u001b[22m\n",
      " [2] \u001b[1m#Source#24\u001b[22m\u001b[22m\u001b[1m(\u001b[22m\u001b[22m::String, ::CSV.Options{Void}, ::Bool, ::Int64, ::Array{Type,1}, ::Symbol, ::Void, ::Bool, ::Bool, ::Int64, ::Int64, ::Int64, ::Bool, ::Type{T} where T\u001b[1m)\u001b[22m\u001b[22m at \u001b[1m/Users/haocheng/.julia/v0.6/CSV/src/Source.jl:61\u001b[22m\u001b[22m\n",
      " [3] \u001b[1m(::Core.#kw#Type)\u001b[22m\u001b[22m\u001b[1m(\u001b[22m\u001b[22m::Array{Any,1}, ::Type{CSV.Source}\u001b[1m)\u001b[22m\u001b[22m at \u001b[1m./<missing>:0\u001b[22m\u001b[22m\n",
      " [4] \u001b[1m#Source#23\u001b[22m\u001b[22m\u001b[1m(\u001b[22m\u001b[22m::Char, ::UInt8, ::UInt8, ::String, ::String, ::Bool, ::Int64, ::Array{Type,1}, ::Symbol, ::Void, ::Void, ::UInt8, ::String, ::String, ::Bool, ::Bool, ::Int64, ::Int64, ::Int64, ::Bool, ::Type{T} where T, ::String\u001b[1m)\u001b[22m\u001b[22m at \u001b[1m/Users/haocheng/.julia/v0.6/CSV/src/Source.jl:30\u001b[22m\u001b[22m\n",
      " [5] \u001b[1m(::Core.#kw#Type)\u001b[22m\u001b[22m\u001b[1m(\u001b[22m\u001b[22m::Array{Any,1}, ::Type{CSV.Source}, ::String\u001b[1m)\u001b[22m\u001b[22m at \u001b[1m./<missing>:0\u001b[22m\u001b[22m\n",
      " [6] \u001b[1m#read#43\u001b[22m\u001b[22m\u001b[1m(\u001b[22m\u001b[22m::Bool, ::Dict{Int64,Function}, ::Bool, ::Array{Any,1}, ::Function, ::String, ::Type{T} where T\u001b[1m)\u001b[22m\u001b[22m at \u001b[1m/Users/haocheng/.julia/v0.6/CSV/src/Source.jl:338\u001b[22m\u001b[22m\n",
      " [7] \u001b[1m(::CSV.#kw##read)\u001b[22m\u001b[22m\u001b[1m(\u001b[22m\u001b[22m::Array{Any,1}, ::CSV.#read, ::String, ::Type{T} where T\u001b[1m)\u001b[22m\u001b[22m at \u001b[1m./<missing>:0\u001b[22m\u001b[22m (repeats 2 times)\n",
      " [8] \u001b[1minclude_string\u001b[22m\u001b[22m\u001b[1m(\u001b[22m\u001b[22m::String, ::String\u001b[1m)\u001b[22m\u001b[22m at \u001b[1m./loading.jl:522\u001b[22m\u001b[22m\n",
      " [9] \u001b[1minclude_string\u001b[22m\u001b[22m\u001b[1m(\u001b[22m\u001b[22m::Module, ::String, ::String\u001b[1m)\u001b[22m\u001b[22m at \u001b[1m/Users/haocheng/.julia/v0.6/Compat/src/Compat.jl:71\u001b[22m\u001b[22m\n",
      " [10] \u001b[1mexecute_request\u001b[22m\u001b[22m\u001b[1m(\u001b[22m\u001b[22m::ZMQ.Socket, ::IJulia.Msg\u001b[1m)\u001b[22m\u001b[22m at \u001b[1m/Users/haocheng/.julia/v0.6/IJulia/src/execute_request.jl:158\u001b[22m\u001b[22m\n",
      " [11] \u001b[1m(::Compat.#inner#17{Array{Any,1},IJulia.#execute_request,Tuple{ZMQ.Socket,IJulia.Msg}})\u001b[22m\u001b[22m\u001b[1m(\u001b[22m\u001b[22m\u001b[1m)\u001b[22m\u001b[22m at \u001b[1m/Users/haocheng/.julia/v0.6/Compat/src/Compat.jl:385\u001b[22m\u001b[22m\n",
      " [12] \u001b[1meventloop\u001b[22m\u001b[22m\u001b[1m(\u001b[22m\u001b[22m::ZMQ.Socket\u001b[1m)\u001b[22m\u001b[22m at \u001b[1m/Users/haocheng/.julia/v0.6/IJulia/src/eventloop.jl:8\u001b[22m\u001b[22m\n",
      " [13] \u001b[1m(::IJulia.##14#17)\u001b[22m\u001b[22m\u001b[1m(\u001b[22m\u001b[22m\u001b[1m)\u001b[22m\u001b[22m at \u001b[1m./task.jl:335\u001b[22m\u001b[22m\n",
      "while loading In[7], in expression starting on line 1\n"
     ]
    }
   ],
   "source": [
    "data = CSV.read(phenofile,delim = ',',header=true,null=\"NA\");"
   ]
  },
  {
   "cell_type": "markdown",
   "metadata": {},
   "source": [
    "<div class=\"span5 alert alert-info\">\n",
    " <font size=\"5\" face=\"Georgia\">I. Multiple Traits Analyses with Marker Information</font><br> \n",
    "</div>"
   ]
  },
  {
   "cell_type": "markdown",
   "metadata": {},
   "source": [
    "<button type=\"button\" class=\"btn btn-lg btn-primary\">Build Model</button> "
   ]
  },
  {
   "cell_type": "markdown",
   "metadata": {},
   "source": [
    "### Genetic covariance matrix and residual covariance matrix"
   ]
  },
  {
   "cell_type": "code",
   "execution_count": 8,
   "metadata": {},
   "outputs": [],
   "source": [
    "R      = [10.0 2.0\n",
    "           2.0 1.0]\n",
    "G      = [20.0 1.0\n",
    "           1.0 2.0];"
   ]
  },
  {
   "cell_type": "code",
   "execution_count": 9,
   "metadata": {},
   "outputs": [],
   "source": [
    "model_equations = \"BW = intercept + age + sex;\n",
    "                   CW = intercept + age + sex\";"
   ]
  },
  {
   "cell_type": "code",
   "execution_count": 10,
   "metadata": {},
   "outputs": [],
   "source": [
    "model1 = build_model(model_equations,R);"
   ]
  },
  {
   "cell_type": "code",
   "execution_count": 11,
   "metadata": {},
   "outputs": [],
   "source": [
    "set_covariate(model1,\"age\");"
   ]
  },
  {
   "cell_type": "code",
   "execution_count": 12,
   "metadata": {},
   "outputs": [
    {
     "name": "stdout",
     "output_type": "stream",
     "text": [
      "5 markers on 4 individuals were added.\n"
     ]
    }
   ],
   "source": [
    "add_genotypes(model1,genofile,G,separator=',',header=true);"
   ]
  },
  {
   "cell_type": "markdown",
   "metadata": {},
   "source": [
    "<button type=\"button\" class=\"btn btn-lg btn-primary\">Run Model</button> "
   ]
  },
  {
   "cell_type": "code",
   "execution_count": 13,
   "metadata": {},
   "outputs": [
    {
     "name": "stdout",
     "output_type": "stream",
     "text": [
      "The prior for marker effects covariance matrix were calculated from genetic covariance matrix and π.\n",
      "Marker effects covariance matrix is \n",
      "[10.9589 0.626223; 0.626223 1.09589].\n",
      "\n",
      "\n",
      "MCMC Information:\n",
      "\n",
      "methods                                      BayesC\n",
      "chain_length                                   5000\n",
      "starting_value                                false\n",
      "printout_frequency                             5001\n",
      "output_samples_frequency                          5\n",
      "constraint                                    false\n",
      "missing_phenotypes                            false\n",
      "update_priors_frequency                           0\n",
      "\n",
      "Information for hyper-parameter: π (Π)\n",
      "π                              Dict([0.0, 1.0]=>0.1,[1.0, 0.0]=>0.1,[1.0, 1.0]=>0.7,[0.0, 0.0]=>0.1)\n",
      "estimatePi                                     true\n",
      "\n",
      "Degree of freedom for hyper-parameters:\n",
      "residual variances:                           4.000\n",
      "iid random effect variances:                  4.000\n",
      "polygenic effect variances:                   4.000\n",
      "marker effect variances:                      4.000\n",
      "\n",
      "\n",
      "\n"
     ]
    },
    {
     "name": "stderr",
     "output_type": "stream",
     "text": [
      "\u001b[1m\u001b[33mWARNING: \u001b[39m\u001b[22m\u001b[33mThe file MCMC_samples_for_marker_effects_BW already exists!!! It was overwritten by the new output.\u001b[39m\n",
      "\u001b[1m\u001b[33mWARNING: \u001b[39m\u001b[22m\u001b[33mThe file MCMC_samples_for_marker_effects_CW already exists!!! It was overwritten by the new output.\u001b[39m\n",
      "\u001b[32mrunning MCMC for BayesC...100%|█████████████████████████| Time: 0:00:02\u001b[39m\n"
     ]
    }
   ],
   "source": [
    "Pi=Dict([1.0; 1.0]=>0.7,[1.0;0.0]=>0.1,[0.0,1.0]=>0.1,[0.0; 0.0]=>0.1)\n",
    "out = runMCMC(model1,data,Pi=Pi,chain_length=5000,methods=\"BayesC\",\n",
    "estimatePi=true,output_samples_frequency=5);"
   ]
  },
  {
   "cell_type": "markdown",
   "metadata": {},
   "source": [
    "<button type=\"button\" class=\"btn btn-lg btn-primary\">Check Results</button> "
   ]
  },
  {
   "cell_type": "code",
   "execution_count": 14,
   "metadata": {},
   "outputs": [
    {
     "data": {
      "text/plain": [
       "Base.KeyIterator for a Dict{Any,Any} with 7 entries. Keys:\n",
       "  \"Model frequency\"\n",
       "  \"Posterior mean of residual covariance matrix\"\n",
       "  \"Posterior mean of marker effects\"\n",
       "  \"Posterior mean of marker effects covariance matrix\"\n",
       "  \"MCMC samples for residual covariance matrix\"\n",
       "  \"Posterior mean of location parameters\"\n",
       "  \"Posterior mean of Pi\""
      ]
     },
     "execution_count": 14,
     "metadata": {},
     "output_type": "execute_result"
    }
   ],
   "source": [
    "keys(out)"
   ]
  },
  {
   "cell_type": "code",
   "execution_count": 15,
   "metadata": {},
   "outputs": [],
   "source": [
    "file1=\"MCMC_samples_for_marker_effects_BW.txt\"\n",
    "file2=\"MCMC_samples_for_marker_effects_CW.txt\";"
   ]
  },
  {
   "cell_type": "code",
   "execution_count": 16,
   "metadata": {},
   "outputs": [
    {
     "data": {
      "text/plain": [
       "2-element Array{Any,1}:\n",
       " 4×3 DataFrames.DataFrame\n",
       "│ Row │ ID │ EBV      │ PEV     │\n",
       "├─────┼────┼──────────┼─────────┤\n",
       "│ 1   │ S1 │ -1.16575 │ 7.48027 │\n",
       "│ 2   │ D1 │ 4.11458  │ 58.1247 │\n",
       "│ 3   │ O1 │ 3.34231  │ 63.8867 │\n",
       "│ 4   │ O3 │ -6.29114 │ 56.2938 │            \n",
       " 4×3 DataFrames.DataFrame\n",
       "│ Row │ ID │ EBV       │ PEV      │\n",
       "├─────┼────┼───────────┼──────────┤\n",
       "│ 1   │ S1 │ -0.218614 │ 0.427367 │\n",
       "│ 2   │ D1 │ 0.829118  │ 2.94729  │\n",
       "│ 3   │ O1 │ 0.700563  │ 3.5645   │\n",
       "│ 4   │ O3 │ -1.31107  │ 3.48593  │"
      ]
     },
     "execution_count": 16,
     "metadata": {},
     "output_type": "execute_result"
    }
   ],
   "source": [
    "get_breeding_values(model1,file1,file2)"
   ]
  },
  {
   "cell_type": "code",
   "execution_count": 17,
   "metadata": {},
   "outputs": [],
   "source": [
    "samples4G=get_additive_genetic_variances(model1,file1,file2);\n",
    "\n",
    "samples4R=out[\"MCMC samples for residual covariance matrix\"];\n",
    "\n",
    "samples4h2=get_heritability(reformat(samples4G),reformat(samples4R));"
   ]
  },
  {
   "cell_type": "code",
   "execution_count": 18,
   "metadata": {},
   "outputs": [],
   "source": [
    "writedlm(\"out3.txt\",samples4G)"
   ]
  },
  {
   "cell_type": "code",
   "execution_count": 19,
   "metadata": {},
   "outputs": [],
   "source": [
    "samples_genetic_correlation=get_correlations(reformat(samples4G));"
   ]
  },
  {
   "cell_type": "code",
   "execution_count": 20,
   "metadata": {},
   "outputs": [],
   "source": [
    "writedlm(\"out.G.txt\",reformat(reformat(samples4G)))"
   ]
  },
  {
   "cell_type": "code",
   "execution_count": 21,
   "metadata": {},
   "outputs": [
    {
     "data": {
      "text/plain": [
       "4×1000 Array{Float64,2}:\n",
       "  75.9576   214.199     169.557     …   4.43168  24.023     0.0176831\n",
       " -11.5904    -2.76706    -4.47821      -1.3264    4.5395   -0.185    \n",
       " -11.5904    -2.76706    -4.47821      -1.3264    4.5395   -0.185    \n",
       "   2.25022    0.109326    0.134539      1.85078   4.13379   1.93546  "
      ]
     },
     "execution_count": 21,
     "metadata": {},
     "output_type": "execute_result"
    }
   ],
   "source": [
    "out=readdlm(\"out.G.txt\")"
   ]
  },
  {
   "cell_type": "code",
   "execution_count": 22,
   "metadata": {},
   "outputs": [
    {
     "data": {
      "text/plain": [
       "1000-element Array{Array{Float64,2},1}:\n",
       " [75.9576 -11.5904; -11.5904 2.25022]      \n",
       " [214.199 -2.76706; -2.76706 0.109326]     \n",
       " [169.557 -4.47821; -4.47821 0.134539]     \n",
       " [54.4354 0.0; 0.0 0.0]                    \n",
       " [20.4455 -2.07862; -2.07862 0.285873]     \n",
       " [10.2694 0.0749113; 0.0749113 0.00117372] \n",
       " [0.0 0.0; 0.0 0.215269]                   \n",
       " [0.931946 -0.438033; -0.438033 0.438992]  \n",
       " [20.2241 0.299041; 0.299041 0.617251]     \n",
       " [29.5567 -0.427954; -0.427954 0.465983]   \n",
       " [23.0433 0.988663; 0.988663 0.18153]      \n",
       " [2.65334 0.186062; 0.186062 0.109608]     \n",
       " [12.5931 7.2791e-18; 7.2791e-18 0.0356108]\n",
       " ⋮                                         \n",
       " [34.7272 4.46529; 4.46529 1.14531]        \n",
       " [26.0568 4.84291; 4.84291 1.65511]        \n",
       " [0.0 0.0; 0.0 0.349961]                   \n",
       " [24.7707 4.88417; 4.88417 1.2596]         \n",
       " [67.5104 7.75837; 7.75837 1.06718]        \n",
       " [98.372 20.2698; 20.2698 4.60033]         \n",
       " [1.27719 -0.0841033; -0.0841033 0.143608] \n",
       " [10.5883 0.300446; 0.300446 0.542079]     \n",
       " [14.2836 1.74056; 1.74056 1.01798]        \n",
       " [4.43168 -1.3264; -1.3264 1.85078]        \n",
       " [24.023 4.5395; 4.5395 4.13379]           \n",
       " [0.0176831 -0.185; -0.185 1.93546]        "
      ]
     },
     "execution_count": 22,
     "metadata": {},
     "output_type": "execute_result"
    }
   ],
   "source": [
    "reformat(out)"
   ]
  },
  {
   "cell_type": "code",
   "execution_count": 23,
   "metadata": {},
   "outputs": [
    {
     "data": {
      "text/plain": [
       "2×1000 Array{Float64,2}:\n",
       " 0.320643  0.736431   0.73948    …  0.0144466  0.235933  0.000176245\n",
       " 0.180494  0.0231696  0.0146801     0.0661075  0.571031  0.255833   "
      ]
     },
     "execution_count": 23,
     "metadata": {},
     "output_type": "execute_result"
    }
   ],
   "source": [
    "out10=reformat(samples4h2)"
   ]
  },
  {
   "cell_type": "code",
   "execution_count": 24,
   "metadata": {},
   "outputs": [
    {
     "data": {
      "text/plain": [
       "1000-element Array{Array{Float64,2},1}:\n",
       " [75.9576 -11.5904; -11.5904 2.25022]      \n",
       " [214.199 -2.76706; -2.76706 0.109326]     \n",
       " [169.557 -4.47821; -4.47821 0.134539]     \n",
       " [54.4354 0.0; 0.0 0.0]                    \n",
       " [20.4455 -2.07862; -2.07862 0.285873]     \n",
       " [10.2694 0.0749113; 0.0749113 0.00117372] \n",
       " [0.0 0.0; 0.0 0.215269]                   \n",
       " [0.931946 -0.438033; -0.438033 0.438992]  \n",
       " [20.2241 0.299041; 0.299041 0.617251]     \n",
       " [29.5567 -0.427954; -0.427954 0.465983]   \n",
       " [23.0433 0.988663; 0.988663 0.18153]      \n",
       " [2.65334 0.186062; 0.186062 0.109608]     \n",
       " [12.5931 7.2791e-18; 7.2791e-18 0.0356108]\n",
       " ⋮                                         \n",
       " [34.7272 4.46529; 4.46529 1.14531]        \n",
       " [26.0568 4.84291; 4.84291 1.65511]        \n",
       " [0.0 0.0; 0.0 0.349961]                   \n",
       " [24.7707 4.88417; 4.88417 1.2596]         \n",
       " [67.5104 7.75837; 7.75837 1.06718]        \n",
       " [98.372 20.2698; 20.2698 4.60033]         \n",
       " [1.27719 -0.0841033; -0.0841033 0.143608] \n",
       " [10.5883 0.300446; 0.300446 0.542079]     \n",
       " [14.2836 1.74056; 1.74056 1.01798]        \n",
       " [4.43168 -1.3264; -1.3264 1.85078]        \n",
       " [24.023 4.5395; 4.5395 4.13379]           \n",
       " [0.0176831 -0.185; -0.185 1.93546]        "
      ]
     },
     "execution_count": 24,
     "metadata": {},
     "output_type": "execute_result"
    }
   ],
   "source": [
    "reformat(out,2)"
   ]
  },
  {
   "cell_type": "code",
   "execution_count": 25,
   "metadata": {},
   "outputs": [
    {
     "name": "stdout",
     "output_type": "stream",
     "text": [
      "Summary Stats:\n",
      "Mean:           15.336644\n",
      "Minimum:        -14.407621\n",
      "1st Quartile:   0.000000\n",
      "Median:         1.024724\n",
      "3rd Quartile:   27.529307\n",
      "Maximum:        127.681809\n",
      "Length:         1000\n",
      "Type:           Float64\n",
      "nothing\n"
     ]
    }
   ],
   "source": [
    "#genetic correlation between trait 1 and trait 2\n",
    "report(reformat(samples4G),index=[1,2]);"
   ]
  },
  {
   "cell_type": "markdown",
   "metadata": {},
   "source": [
    "<div class=\"span5 alert alert-info\">\n",
    " <font size=\"5\" face=\"Georgia\">II. Multiple Traits Analyses with Marker Effects and Polygenic Effects</font><br> \n",
    "</div>"
   ]
  },
  {
   "cell_type": "markdown",
   "metadata": {},
   "source": [
    "<button type=\"button\" class=\"btn btn-lg btn-primary\">Build Model</button> "
   ]
  },
  {
   "cell_type": "code",
   "execution_count": 26,
   "metadata": {},
   "outputs": [],
   "source": [
    "model_equations = \"BW = intercept + age + sex + Animal;\n",
    "                   CW = intercept + age + sex + Animal\";\n",
    "model2          = build_model(model_equations,R);\n",
    "\n",
    "set_covariate(model2,\"age\");"
   ]
  },
  {
   "cell_type": "markdown",
   "metadata": {},
   "source": [
    "get pedigree information from a file"
   ]
  },
  {
   "cell_type": "code",
   "execution_count": 27,
   "metadata": {},
   "outputs": [
    {
     "name": "stdout",
     "output_type": "stream",
     "text": [
      "Finished!\n"
     ]
    }
   ],
   "source": [
    "ped=get_pedigree(pedfile);"
   ]
  },
  {
   "cell_type": "code",
   "execution_count": 28,
   "metadata": {},
   "outputs": [],
   "source": [
    "GA = G*0.1\n",
    "set_random(model2,\"Animal\",ped,GA)"
   ]
  },
  {
   "cell_type": "code",
   "execution_count": 29,
   "metadata": {},
   "outputs": [
    {
     "name": "stdout",
     "output_type": "stream",
     "text": [
      "5 markers on 4 individuals were added.\n"
     ]
    }
   ],
   "source": [
    "GM = G*0.9\n",
    "add_genotypes(model2,genofile,GM,separator=',',header=true);"
   ]
  },
  {
   "cell_type": "markdown",
   "metadata": {},
   "source": [
    "<button type=\"button\" class=\"btn btn-lg btn-primary\">Run Model</button> "
   ]
  },
  {
   "cell_type": "code",
   "execution_count": 30,
   "metadata": {},
   "outputs": [
    {
     "name": "stderr",
     "output_type": "stream",
     "text": [
      "\u001b[1m\u001b[33mWARNING: \u001b[39m\u001b[22m\u001b[33mPi (Π) is not provided!!\u001b[39m\n",
      "\u001b[1m\u001b[33mWARNING: \u001b[39m\u001b[22m\u001b[33mPi was generated assuming all markers have effects on all traits\u001b[39m\n"
     ]
    },
    {
     "name": "stdout",
     "output_type": "stream",
     "text": [
      "The prior for marker effects covariance matrix were calculated from genetic covariance matrix and π.\n",
      "Marker effects covariance matrix is \n",
      "[7.89041 0.394521; 0.394521 0.789041].\n",
      "\n",
      "\n",
      "MCMC Information:\n",
      "\n",
      "methods                                      BayesC\n",
      "chain_length                                   5000\n",
      "starting_value                                false\n",
      "printout_frequency                             5001\n",
      "output_samples_frequency                          0\n",
      "constraint                                    false\n",
      "missing_phenotypes                            false\n",
      "update_priors_frequency                           0\n",
      "\n",
      "Information for hyper-parameter: π (Π)\n",
      "π                              Dict([0.0, 1.0]=>0.0,[1.0, 0.0]=>0.0,[1.0, 1.0]=>1.0,[0.0, 0.0]=>0.0)\n",
      "estimatePi                                    false\n",
      "\n",
      "Degree of freedom for hyper-parameters:\n",
      "residual variances:                           4.000\n",
      "iid random effect variances:                  4.000\n",
      "polygenic effect variances:                   4.000\n",
      "marker effect variances:                      4.000\n",
      "\n",
      "\n",
      "\n"
     ]
    },
    {
     "name": "stderr",
     "output_type": "stream",
     "text": [
      "\u001b[32mrunning MCMC for BayesC...100%|█████████████████████████| Time: 0:00:01\u001b[39m\n"
     ]
    }
   ],
   "source": [
    "out2=runMCMC(model2,data,chain_length=5000,methods=\"BayesC\");"
   ]
  },
  {
   "cell_type": "markdown",
   "metadata": {},
   "source": [
    "<button type=\"button\" class=\"btn btn-lg btn-primary\">Check Results</button> "
   ]
  },
  {
   "cell_type": "code",
   "execution_count": 31,
   "metadata": {},
   "outputs": [
    {
     "data": {
      "text/plain": [
       "Base.KeyIterator for a Dict{Any,Any} with 6 entries. Keys:\n",
       "  \"Posterior mean of polygenic effects covariance matrix\"\n",
       "  \"Model frequency\"\n",
       "  \"Posterior mean of residual covariance matrix\"\n",
       "  \"Posterior mean of marker effects\"\n",
       "  \"Posterior mean of marker effects covariance matrix\"\n",
       "  \"Posterior mean of location parameters\""
      ]
     },
     "execution_count": 31,
     "metadata": {},
     "output_type": "execute_result"
    }
   ],
   "source": [
    "keys(out2)"
   ]
  },
  {
   "cell_type": "code",
   "execution_count": 32,
   "metadata": {},
   "outputs": [
    {
     "data": {
      "text/plain": [
       "2×2 Array{Float64,2}:\n",
       " 2.08137   0.135832\n",
       " 0.135832  0.190496"
      ]
     },
     "execution_count": 32,
     "metadata": {},
     "output_type": "execute_result"
    }
   ],
   "source": [
    "out2[\"Posterior mean of polygenic effects covariance matrix\"]"
   ]
  }
 ],
 "metadata": {
  "anaconda-cloud": {},
  "kernelspec": {
   "display_name": "Julia 0.6.2",
   "language": "julia",
   "name": "julia-0.6"
  },
  "language_info": {
   "file_extension": ".jl",
   "mimetype": "application/julia",
   "name": "julia",
   "version": "0.6.2"
  }
 },
 "nbformat": 4,
 "nbformat_minor": 1
}
