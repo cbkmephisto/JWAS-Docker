{
 "cells": [
  {
   "cell_type": "markdown",
   "metadata": {},
   "source": [
    "<ul class=\"breadcrumb\">\n",
    "  <li><a href=\"1.1.Univaraite_Linear_Mixed_Effects_Model.ipynb\">Univariate Basics</a></li>\n",
    "  <li><a href=\"2.1.Univariate_Linear_Additive_Genetic_Model.ipynb\">Univariate Additive Genetic Model</a></li> \n",
    "  <li><a href=\"3.1.Univariate_Linear_Mixed_Effects_Model_with_Genomic_Data.ipynb\">Univariate Genomic Data</a></li>\n",
    "</ul>"
   ]
  },
  {
   "cell_type": "markdown",
   "metadata": {},
   "source": [
    "<div class=\"span5 alert alert-success\">\n",
    " <font size=\"5\" face=\"Georgia\">Univaraite Linear Mixed Effects Model with Genomic Data</font> \n",
    "</div>\n"
   ]
  },
  {
   "cell_type": "markdown",
   "metadata": {},
   "source": [
    "<button type=\"button\" class=\"btn btn-lg btn-primary\">Data</button>"
   ]
  },
  {
   "cell_type": "code",
   "execution_count": 1,
   "metadata": {},
   "outputs": [],
   "source": [
    "using DataFrames,CSV,JWAS,JWAS.Datasets"
   ]
  },
  {
   "cell_type": "code",
   "execution_count": 2,
   "metadata": {},
   "outputs": [],
   "source": [
    "phenofile = Datasets.dataset(\"testMME\",\"simple.txt\")\n",
    "genofile  = Datasets.dataset(\"testMME\",\"genotype.txt\")\n",
    "pedfile   = Datasets.dataset(\"testMME\",\"pedigree.txt\");"
   ]
  },
  {
   "cell_type": "code",
   "execution_count": 3,
   "metadata": {},
   "outputs": [
    {
     "name": "stdout",
     "output_type": "stream",
     "text": [
      "Animal,Age,y\n",
      "S1,1,-0.92\n",
      "D1,2,-1.05\n",
      "O1,3,-0.92\n",
      "O3,2,1.2\n"
     ]
    }
   ],
   "source": [
    ";cat $phenofile"
   ]
  },
  {
   "cell_type": "code",
   "execution_count": 4,
   "metadata": {},
   "outputs": [
    {
     "name": "stdout",
     "output_type": "stream",
     "text": [
      "Animal,x1,x2,x3,x4,x5\n",
      "S1,1,0,1,1,1\n",
      "D1,2,0,2,2,1\n",
      "O1,1,2,0,1,0\n",
      "O3,0,0,2,1,1\n"
     ]
    }
   ],
   "source": [
    ";cat $genofile"
   ]
  },
  {
   "cell_type": "code",
   "execution_count": 5,
   "metadata": {},
   "outputs": [
    {
     "name": "stdout",
     "output_type": "stream",
     "text": [
      "S1 0 0\n",
      "D1 0 0\n",
      "O1 S1 D1\n",
      "O2 S1 D1\n",
      "O3 S1 D1\n"
     ]
    }
   ],
   "source": [
    ";cat $pedfile"
   ]
  },
  {
   "cell_type": "markdown",
   "metadata": {},
   "source": [
    "<button type=\"button\" class=\"btn btn-lg btn-primary\">Build Model</button> "
   ]
  },
  {
   "cell_type": "code",
   "execution_count": 6,
   "metadata": {},
   "outputs": [
    {
     "name": "stderr",
     "output_type": "stream",
     "text": [
      "\u001b[1m\u001b[33mWARNING: \u001b[39m\u001b[22m\u001b[33mnull option is deprecated, use missingstring instead\u001b[39m\n",
      "Stacktrace:\n",
      " [1] \u001b[1mdepwarn\u001b[22m\u001b[22m\u001b[1m(\u001b[22m\u001b[22m::String, ::Symbol\u001b[1m)\u001b[22m\u001b[22m at \u001b[1m./deprecated.jl:70\u001b[22m\u001b[22m\n",
      " [2] \u001b[1m#Source#24\u001b[22m\u001b[22m\u001b[1m(\u001b[22m\u001b[22m::String, ::CSV.Options{Void}, ::Bool, ::Int64, ::Array{Type,1}, ::Symbol, ::Void, ::Bool, ::Bool, ::Int64, ::Int64, ::Int64, ::Bool, ::Type{T} where T\u001b[1m)\u001b[22m\u001b[22m at \u001b[1m/Users/qtlcheng/.julia/v0.6/CSV/src/Source.jl:61\u001b[22m\u001b[22m\n",
      " [3] \u001b[1m(::Core.#kw#Type)\u001b[22m\u001b[22m\u001b[1m(\u001b[22m\u001b[22m::Array{Any,1}, ::Type{CSV.Source}\u001b[1m)\u001b[22m\u001b[22m at \u001b[1m./<missing>:0\u001b[22m\u001b[22m\n",
      " [4] \u001b[1m#Source#23\u001b[22m\u001b[22m\u001b[1m(\u001b[22m\u001b[22m::Char, ::UInt8, ::UInt8, ::String, ::String, ::Bool, ::Int64, ::Array{Type,1}, ::Symbol, ::Void, ::Void, ::UInt8, ::String, ::String, ::Bool, ::Bool, ::Int64, ::Int64, ::Int64, ::Bool, ::Type{T} where T, ::String\u001b[1m)\u001b[22m\u001b[22m at \u001b[1m/Users/qtlcheng/.julia/v0.6/CSV/src/Source.jl:30\u001b[22m\u001b[22m\n",
      " [5] \u001b[1m(::Core.#kw#Type)\u001b[22m\u001b[22m\u001b[1m(\u001b[22m\u001b[22m::Array{Any,1}, ::Type{CSV.Source}, ::String\u001b[1m)\u001b[22m\u001b[22m at \u001b[1m./<missing>:0\u001b[22m\u001b[22m\n",
      " [6] \u001b[1m#read#43\u001b[22m\u001b[22m\u001b[1m(\u001b[22m\u001b[22m::Bool, ::Dict{Int64,Function}, ::Bool, ::Array{Any,1}, ::Function, ::String, ::Type{T} where T\u001b[1m)\u001b[22m\u001b[22m at \u001b[1m/Users/qtlcheng/.julia/v0.6/CSV/src/Source.jl:338\u001b[22m\u001b[22m\n",
      " [7] \u001b[1m(::CSV.#kw##read)\u001b[22m\u001b[22m\u001b[1m(\u001b[22m\u001b[22m::Array{Any,1}, ::CSV.#read, ::String, ::Type{T} where T\u001b[1m)\u001b[22m\u001b[22m at \u001b[1m./<missing>:0\u001b[22m\u001b[22m (repeats 2 times)\n",
      " [8] \u001b[1minclude_string\u001b[22m\u001b[22m\u001b[1m(\u001b[22m\u001b[22m::String, ::String\u001b[1m)\u001b[22m\u001b[22m at \u001b[1m./loading.jl:522\u001b[22m\u001b[22m\n",
      " [9] \u001b[1minclude_string\u001b[22m\u001b[22m\u001b[1m(\u001b[22m\u001b[22m::Module, ::String, ::String\u001b[1m)\u001b[22m\u001b[22m at \u001b[1m/Users/qtlcheng/.julia/v0.6/Compat/src/Compat.jl:71\u001b[22m\u001b[22m\n",
      " [10] \u001b[1mexecute_request\u001b[22m\u001b[22m\u001b[1m(\u001b[22m\u001b[22m::ZMQ.Socket, ::IJulia.Msg\u001b[1m)\u001b[22m\u001b[22m at \u001b[1m/Users/qtlcheng/.julia/v0.6/IJulia/src/execute_request.jl:158\u001b[22m\u001b[22m\n",
      " [11] \u001b[1m(::Compat.#inner#17{Array{Any,1},IJulia.#execute_request,Tuple{ZMQ.Socket,IJulia.Msg}})\u001b[22m\u001b[22m\u001b[1m(\u001b[22m\u001b[22m\u001b[1m)\u001b[22m\u001b[22m at \u001b[1m/Users/qtlcheng/.julia/v0.6/Compat/src/Compat.jl:385\u001b[22m\u001b[22m\n",
      " [12] \u001b[1meventloop\u001b[22m\u001b[22m\u001b[1m(\u001b[22m\u001b[22m::ZMQ.Socket\u001b[1m)\u001b[22m\u001b[22m at \u001b[1m/Users/qtlcheng/.julia/v0.6/IJulia/src/eventloop.jl:8\u001b[22m\u001b[22m\n",
      " [13] \u001b[1m(::IJulia.##14#17)\u001b[22m\u001b[22m\u001b[1m(\u001b[22m\u001b[22m\u001b[1m)\u001b[22m\u001b[22m at \u001b[1m./task.jl:335\u001b[22m\u001b[22m\n",
      "while loading In[6], in expression starting on line 1\n"
     ]
    }
   ],
   "source": [
    "phenotype = CSV.read(phenofile,delim = ',',header=true,null=\"NA\");"
   ]
  },
  {
   "cell_type": "code",
   "execution_count": 7,
   "metadata": {},
   "outputs": [
    {
     "data": {
      "text/html": [
       "<table class=\"data-frame\"><thead><tr><th></th><th>Animal</th><th>Age</th><th>y</th></tr></thead><tbody><tr><th>1</th><td>S1</td><td>1</td><td>-0.92</td></tr><tr><th>2</th><td>D1</td><td>2</td><td>-1.05</td></tr><tr><th>3</th><td>O1</td><td>3</td><td>-0.92</td></tr><tr><th>4</th><td>O3</td><td>2</td><td>1.2</td></tr></tbody></table>"
      ],
      "text/plain": [
       "4×3 DataFrames.DataFrame\n",
       "│ Row │ Animal │ Age │ y     │\n",
       "├─────┼────────┼─────┼───────┤\n",
       "│ 1   │ S1     │ 1   │ -0.92 │\n",
       "│ 2   │ D1     │ 2   │ -1.05 │\n",
       "│ 3   │ O1     │ 3   │ -0.92 │\n",
       "│ 4   │ O3     │ 2   │ 1.2   │"
      ]
     },
     "execution_count": 7,
     "metadata": {},
     "output_type": "execute_result"
    }
   ],
   "source": [
    "phenotype"
   ]
  },
  {
   "cell_type": "code",
   "execution_count": 8,
   "metadata": {
    "scrolled": true
   },
   "outputs": [
    {
     "name": "stderr",
     "output_type": "stream",
     "text": [
      "\u001b[32mcoding pedigree... 100%|████████████████████████████████| Time: 0:00:00\u001b[39m"
     ]
    },
    {
     "name": "stdout",
     "output_type": "stream",
     "text": [
      "Finished!\n"
     ]
    },
    {
     "name": "stderr",
     "output_type": "stream",
     "text": [
      "\n"
     ]
    }
   ],
   "source": [
    "pedigree = get_pedigree(pedfile);"
   ]
  },
  {
   "cell_type": "code",
   "execution_count": 9,
   "metadata": {},
   "outputs": [],
   "source": [
    "residual_variance = 1.0\n",
    "genetic_variance  = 2.5\n",
    "genetic_variance_by_marker    = 1.5\n",
    "genetic_variance_by_polygenic = 1.0;"
   ]
  },
  {
   "cell_type": "code",
   "execution_count": 10,
   "metadata": {},
   "outputs": [],
   "source": [
    "model = build_model(\"y = intercept + Age + Animal\",residual_variance)\n",
    "set_covariate(model,\"Age\")\n",
    "set_random(model,\"Animal\",pedigree,genetic_variance_by_polygenic)"
   ]
  },
  {
   "cell_type": "code",
   "execution_count": 11,
   "metadata": {},
   "outputs": [
    {
     "name": "stdout",
     "output_type": "stream",
     "text": [
      "5 markers on 4 individuals were added.\n"
     ]
    }
   ],
   "source": [
    "add_genotypes(model,genofile,genetic_variance_by_marker,separator=',');"
   ]
  },
  {
   "cell_type": "markdown",
   "metadata": {},
   "source": [
    "<button type=\"button\" class=\"btn btn-lg btn-primary\">Run Model</button> "
   ]
  },
  {
   "cell_type": "code",
   "execution_count": 12,
   "metadata": {},
   "outputs": [
    {
     "name": "stdout",
     "output_type": "stream",
     "text": [
      "The prior for marker effects variance was calculated from genetic varaince and π.\n",
      "Marker effects variance is \n",
      "6.575342.\n",
      "\n",
      "\n",
      "MCMC Information:\n",
      "\n",
      "methods                                      BayesC\n",
      "chain_length                                   5000\n",
      "starting_value                                false\n",
      "printout_frequency                             1000\n",
      "output_samples_frequency                        100\n",
      "constraint                                    false\n",
      "missing_phenotypes                            false\n",
      "update_priors_frequency                           0\n",
      "\n",
      "Information for hyper-parameter: π (Π)\n",
      "π                                               0.9\n",
      "estimatePi                                     true\n",
      "\n",
      "Degree of freedom for hyper-parameters:\n",
      "residual variances:                           4.000\n",
      "iid random effect variances:                  4.000\n",
      "polygenic effect variances:                   4.000\n",
      "marker effect variances:                      4.000\n",
      "\n",
      "\n",
      "\n"
     ]
    },
    {
     "name": "stderr",
     "output_type": "stream",
     "text": [
      "\u001b[1m\u001b[36mINFO: \u001b[39m\u001b[22m\u001b[36mThe file MCMC_samples_for_marker_effects (_variance) was created to save MCMC samples for marker effects (variances).\n",
      "\u001b[39m\r"
     ]
    },
    {
     "name": "stdout",
     "output_type": "stream",
     "text": [
      "\n",
      "Posterior means at iteration: 1000\n",
      "Residual variance: 1.056877\n",
      "Polygenic effects covariance matrix \n"
     ]
    },
    {
     "name": "stderr",
     "output_type": "stream",
     "text": [
      "\u001b[32mrunning MCMC for BayesC...  0%|                         |  ETA: 0:28:40\u001b[39m\r",
      "\u001b[32mrunning MCMC for BayesC...  2%|                         |  ETA: 0:00:23\u001b[39m"
     ]
    },
    {
     "name": "stdout",
     "output_type": "stream",
     "text": [
      "[1.226]\n",
      "Marker effects variance: 4.925259\n",
      "π: 0.576\n",
      "\n",
      "Posterior means at iteration: 2000\n",
      "Residual variance: 1.173365\n",
      "Polygenic effects covariance matrix \n",
      "[1.206]\n",
      "Marker effects variance: 4.992024\n",
      "π: 0.548\n",
      "\n",
      "Posterior means at iteration: 3000\n",
      "Residual variance: 1.106862\n",
      "Polygenic effects covariance matrix \n",
      "[1.237]\n",
      "Marker effects variance: 4.932401\n",
      "π: 0.538\n",
      "\n",
      "Posterior means at iteration: 4000\n",
      "Residual variance: 1.057176\n",
      "Polygenic effects covariance matrix \n",
      "[1.207]\n",
      "Marker effects variance: 4.770719\n",
      "π: 0.527\n",
      "\n",
      "Posterior means at iteration: 5000\n",
      "Residual variance: 1.041062\n",
      "Polygenic effects covariance matrix \n",
      "[1.206]\n",
      "Marker effects variance: 4.767218\n",
      "π: 0.531\n"
     ]
    },
    {
     "name": "stderr",
     "output_type": "stream",
     "text": [
      "\r",
      "\u001b[32mrunning MCMC for BayesC... 20%|█████                    |  ETA: 0:00:03\u001b[39m\r",
      "\u001b[32mrunning MCMC for BayesC...100%|█████████████████████████| Time: 0:00:01\u001b[39m\n"
     ]
    }
   ],
   "source": [
    "output=runMCMC(model,phenotype,chain_length=5000,printout_frequency=1000,\n",
    "methods=\"BayesC\",Pi=0.9,estimatePi=true,output_samples_frequency=100);"
   ]
  },
  {
   "cell_type": "code",
   "execution_count": 13,
   "metadata": {},
   "outputs": [
    {
     "data": {
      "text/plain": [
       "Base.KeyIterator for a Dict{Any,Any} with 6 entries. Keys:\n",
       "  \"Posterior mean of marker effects\"\n",
       "  \"MCMC samples for residual variance\"\n",
       "  \"MCMC samples for: π\"\n",
       "  \"MCMC samples for polygenic effects var-cov parameters\"\n",
       "  \"Posterior mean of location parameters\"\n",
       "  \"Posterior mean of Pi\""
      ]
     },
     "execution_count": 13,
     "metadata": {},
     "output_type": "execute_result"
    }
   ],
   "source": [
    "keys(output)"
   ]
  },
  {
   "cell_type": "markdown",
   "metadata": {},
   "source": [
    "<button type=\"button\" class=\"btn btn-lg btn-primary\">Check Results</button> "
   ]
  },
  {
   "cell_type": "code",
   "execution_count": 14,
   "metadata": {},
   "outputs": [
    {
     "data": {
      "text/plain": [
       "7×2 Array{Any,2}:\n",
       " \"1:intercept : intercept\"  -1.92297  \n",
       " \"1:Age : Age\"               0.725313 \n",
       " \"1:Animal : S1\"             0.0724414\n",
       " \"1:Animal : D1\"            -0.082683 \n",
       " \"1:Animal : O1\"            -0.146282 \n",
       " \"1:Animal : O3\"             0.313929 \n",
       " \"1:Animal : O2\"             0.0125569"
      ]
     },
     "execution_count": 14,
     "metadata": {},
     "output_type": "execute_result"
    }
   ],
   "source": [
    "output[\"Posterior mean of location parameters\"]"
   ]
  },
  {
   "cell_type": "code",
   "execution_count": 15,
   "metadata": {},
   "outputs": [
    {
     "data": {
      "text/plain": [
       "5×2 Array{Any,2}:\n",
       " \"x1\"  -0.421571\n",
       " \"x2\"  -0.293844\n",
       " \"x3\"   0.162882\n",
       " \"x4\"  -0.250705\n",
       " \"x5\"   0.321027"
      ]
     },
     "execution_count": 15,
     "metadata": {},
     "output_type": "execute_result"
    }
   ],
   "source": [
    "output[\"Posterior mean of marker effects\"]"
   ]
  },
  {
   "cell_type": "code",
   "execution_count": 16,
   "metadata": {},
   "outputs": [
    {
     "data": {
      "text/plain": [
       "0.5307161145585161"
      ]
     },
     "execution_count": 16,
     "metadata": {},
     "output_type": "execute_result"
    }
   ],
   "source": [
    "output[\"Posterior mean of Pi\"]"
   ]
  },
  {
   "cell_type": "code",
   "execution_count": 17,
   "metadata": {},
   "outputs": [
    {
     "data": {
      "text/plain": [
       "1×50 Array{Float64,2}:\n",
       " 0.424299  0.51075  0.267908  0.859485  …  2.97739  0.891722  2.57928"
      ]
     },
     "execution_count": 17,
     "metadata": {},
     "output_type": "execute_result"
    }
   ],
   "source": [
    "output[\"MCMC samples for residual variance\"]"
   ]
  },
  {
   "cell_type": "code",
   "execution_count": 18,
   "metadata": {},
   "outputs": [
    {
     "data": {
      "text/plain": [
       "50-element Array{Float64,1}:\n",
       " 0.858188\n",
       " 0.656782\n",
       " 0.333886\n",
       " 0.885965\n",
       " 0.716077\n",
       " 0.90093 \n",
       " 0.919038\n",
       " 0.538138\n",
       " 0.675689\n",
       " 0.343244\n",
       " 0.43544 \n",
       " 0.988365\n",
       " 0.708875\n",
       " ⋮       \n",
       " 0.327642\n",
       " 0.533322\n",
       " 0.113962\n",
       " 0.532526\n",
       " 0.963646\n",
       " 0.682284\n",
       " 0.585791\n",
       " 0.284399\n",
       " 0.257073\n",
       " 0.685185\n",
       " 0.840864\n",
       " 0.723962"
      ]
     },
     "execution_count": 18,
     "metadata": {},
     "output_type": "execute_result"
    }
   ],
   "source": [
    "output[\"MCMC samples for: π\"]"
   ]
  },
  {
   "cell_type": "code",
   "execution_count": null,
   "metadata": {},
   "outputs": [
    {
     "name": "stderr",
     "output_type": "stream",
     "text": [
      "\u001b[1m\u001b[36mINFO: \u001b[39m\u001b[22m\u001b[36mRecompiling stale cache file /Users/qtlcheng/.julia/lib/v0.6/Plots.ji for module Plots.\n",
      "\u001b[39m"
     ]
    }
   ],
   "source": [
    "using Plots\n",
    "histogram(output[\"MCMC samples for: π\"])"
   ]
  }
 ],
 "metadata": {
  "kernelspec": {
   "display_name": "Julia 0.6.2",
   "language": "julia",
   "name": "julia-0.6"
  },
  "language_info": {
   "file_extension": ".jl",
   "mimetype": "application/julia",
   "name": "julia",
   "version": "0.6.2"
  }
 },
 "nbformat": 4,
 "nbformat_minor": 1
}
